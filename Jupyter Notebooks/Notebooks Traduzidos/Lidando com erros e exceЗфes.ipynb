{
 "cells": [
  {
   "cell_type": "markdown",
   "metadata": {},
   "source": [
    "# Lidando com erros e exceções\n",
    "\n",
    "Nesta aula aprenderemos sobre Erros e Manipulação de Exceções em Python. Você definitivamente já encontrou erros nesse ponto no curso. Por exemplo:"
   ]
  },
  {
   "cell_type": "code",
   "execution_count": 1,
   "metadata": {},
   "outputs": [
    {
     "ename": "SyntaxError",
     "evalue": "EOL while scanning string literal (<ipython-input-1-db8c9988558c>, line 1)",
     "output_type": "error",
     "traceback": [
      "\u001b[1;36m  File \u001b[1;32m\"<ipython-input-1-db8c9988558c>\"\u001b[1;36m, line \u001b[1;32m1\u001b[0m\n\u001b[1;33m    print('Hello)\u001b[0m\n\u001b[1;37m                 ^\u001b[0m\n\u001b[1;31mSyntaxError\u001b[0m\u001b[1;31m:\u001b[0m EOL while scanning string literal\n"
     ]
    }
   ],
   "source": [
    "print('Hello)"
   ]
  },
  {
   "cell_type": "markdown",
   "metadata": {},
   "source": [
    "Observe como obtemos um SyntaxError, com a descrição adicional de que era um EOL (End of Line Error). Isso é suficiente para que percebamos que esquecemos um unico apóstrofe no final da linha. Compreender estes vários tipos de erro irá ajudá-lo a depurar seu código muito mais rápido.\n",
    "\n",
    "Este tipo de erro e descrição é conhecido como uma Exceção. Mesmo que uma declaração ou expressão seja sintaticamente correta, pode causar um erro quando tentamos executá-la. Os erros detectados durante a execução são chamados de exceções e não são incondicionalmente fatais.\n",
    "\n",
    "Você pode verificar a lista completa de exceções embutidas [aqui](https://docs.python.org/2/library/exceptions.html). Vamos aprender a lidar com erros e exceções em nosso próprio código."
   ]
  },
  {
   "cell_type": "markdown",
   "metadata": {},
   "source": [
    "## try e except\n",
    "\n",
    "A terminologia básica e a sintaxe usadas para lidar com erros no Python são as instruções **try** e **except**. O código que pode causar uma exceção ocorre é colocado no bloco *try* e o tratamento da exceção é implementado no * do bloco de código *except*. O formulário de sintaxe é:\n",
    "\n",
    "    try:\n",
    "       Você tenta fazer algo aqui...\n",
    "       ...\n",
    "    except ExceptionI:\n",
    "       Se causar a ExceptionI, roda isso.\n",
    "    except ExceptionII:\n",
    "       Se causar a ExceptionII, roda isso.\n",
    "       ...\n",
    "    else:\n",
    "        Se não causar excessões, roda isso.\n",
    "\n",
    "Nós também podemos apenas verificar qualquer exceção apenas com except: Para obter uma melhor compreensão de tudo isso, vamos verificar um exemplo: Vamos ver algum código que abre e grava um arquivo:"
   ]
  },
  {
   "cell_type": "code",
   "execution_count": null,
   "metadata": {
    "collapsed": true
   },
   "outputs": [],
   "source": [
    "try:\n",
    "    f = open('testfile','w')\n",
    "    f.write('Test write this')\n",
    "except IOError:\n",
    "    # Isso só irá verificar se há uma exceção IOError e, em seguida, executar esta declaração de impressão\n",
    "   print(\"Error: Could not find file or read data\")\n",
    "else:\n",
    "   print(\"Content written successfully\")\n",
    "   f.close()"
   ]
  },
  {
   "cell_type": "markdown",
   "metadata": {},
   "source": [
    "Agora, vamos ver o que aconteceria se não tivéssemos permissão de escrita (abrindo apenas com 'r'):"
   ]
  },
  {
   "cell_type": "code",
   "execution_count": null,
   "metadata": {
    "collapsed": true
   },
   "outputs": [],
   "source": [
    "try:\n",
    "    f = open('testfile','r')\n",
    "    f.write('Test write this')\n",
    "except IOError:\n",
    "    # This will only check for an IOError exception and then execute this print statement\n",
    "   print(\"Error: Could not find file or read data\")\n",
    "else:\n",
    "   print(\"Content written successfully\")\n",
    "   f.close()"
   ]
  },
  {
   "cell_type": "markdown",
   "metadata": {},
   "source": [
    "Ótimo! Observe como imprimimos apenas uma declaração! O código ainda correu e conseguimos continuar fazendo ações e executando blocos de código. Isso é extremamente útil quando você deve ter em conta possíveis erros de entrada em seu código. Você pode estar preparado para o erro e continuar executando o código, em vez de seu código apenas quebrar como vimos acima.\n",
    "\n",
    "Também poderíamos ter imprimido caso não tivéssemos certeza de qual seria a exceção. Por exemplo:"
   ]
  },
  {
   "cell_type": "code",
   "execution_count": null,
   "metadata": {
    "collapsed": true
   },
   "outputs": [],
   "source": [
    "try:\n",
    "    f = open('testfile','r')\n",
    "    f.write('Test write this')\n",
    "except:\n",
    "   print(\"Error: Could not find file or read data\")\n",
    "else:\n",
    "   print(\"Content written successfully\")\n",
    "   f.close()"
   ]
  },
  {
   "cell_type": "markdown",
   "metadata": {},
   "source": [
    "Ótimo! Agora, na verdade, não precisamos memorizar essa lista de tipos de exceção! Agora, e se continuássemos querendo executar código após a ocorrência da exceção? É aí que o **finally** entra.\n",
    "\n",
    "## finally\n",
    "O finally: o bloco de código sempre será executado, independentemente de existir uma exceção no bloco de código try. A sintaxe é:\n",
    "\n",
    "    try:\n",
    "       Seu código aqui\n",
    "       ...\n",
    "       Devido a qualquer exceção, este código pode ser ignorado!\n",
    "    finally:\n",
    "       Este bloco de código sempre seria executado.\n",
    "\n",
    "Por exemplo:"
   ]
  },
  {
   "cell_type": "code",
   "execution_count": null,
   "metadata": {
    "collapsed": true
   },
   "outputs": [],
   "source": [
    "try:\n",
    "   f = open(\"testfile\", \"w\")\n",
    "   f.write(\"Test write statement\")\n",
    "finally:\n",
    "   print(\"Always execute finally code blocks\")"
   ]
  },
  {
   "cell_type": "markdown",
   "metadata": {},
   "source": [
    "Nós podemos usar finally em conjunto com except. Vamos ver um novo exemplo que levará em consideração um usuário que coloque a entrada errada:"
   ]
  },
  {
   "cell_type": "code",
   "execution_count": null,
   "metadata": {
    "collapsed": true
   },
   "outputs": [],
   "source": [
    "def askint():\n",
    "        try:\n",
    "            val = int(raw_input(\"Entre um inteiro: \"))\n",
    "        except:\n",
    "            print(\"Parece que você não digitou um inteiro\")\n",
    "            \n",
    "        finally:\n",
    "            print(\"Executei!\")\n",
    "        print(val)       "
   ]
  },
  {
   "cell_type": "code",
   "execution_count": null,
   "metadata": {
    "collapsed": true
   },
   "outputs": [],
   "source": [
    "askint()"
   ]
  },
  {
   "cell_type": "markdown",
   "metadata": {},
   "source": [
    "Observe como obtivemos um erro ao tentar imprimir val (porque nunca foi atribuído corretamente). Repare isso perguntando ao usuário e verificando se o tipo de entrada é um número inteiro:"
   ]
  },
  {
   "cell_type": "code",
   "execution_count": null,
   "metadata": {
    "collapsed": true
   },
   "outputs": [],
   "source": [
    "def askint():\n",
    "        try:\n",
    "            val = int(raw_input(\"Please enter an integer: \"))\n",
    "        except:\n",
    "            print(\"Looks like you did not enter an integer!\")\n",
    "            val = int(raw_input(\"Try again-Please enter an integer: \"))\n",
    "        finally:\n",
    "            print(\"Finally, I executed!\")\n",
    "        print(val)"
   ]
  },
  {
   "cell_type": "code",
   "execution_count": null,
   "metadata": {
    "collapsed": true
   },
   "outputs": [],
   "source": [
    "askint()"
   ]
  },
  {
   "cell_type": "markdown",
   "metadata": {},
   "source": [
    "Como podemos continuar continuando a verificar? Podemos usar um loop while!"
   ]
  },
  {
   "cell_type": "code",
   "execution_count": null,
   "metadata": {
    "collapsed": true
   },
   "outputs": [],
   "source": [
    "def askint():\n",
    "    while True:\n",
    "        try:\n",
    "            val = int(raw_input(\"Please enter an integer: \"))\n",
    "        except:\n",
    "            print(\"Looks like you did not enter an integer!\")\n",
    "            continue\n",
    "        else:\n",
    "            print('Yep thats an integer!')\n",
    "            break\n",
    "        finally:\n",
    "            print(\"Finally, I executed!\")\n",
    "        print(val) "
   ]
  },
  {
   "cell_type": "code",
   "execution_count": null,
   "metadata": {
    "collapsed": true
   },
   "outputs": [],
   "source": [
    "askint(1)"
   ]
  },
  {
   "cell_type": "markdown",
   "metadata": {},
   "source": [
    "**Ótimo! Agora você sabe como lidar com erros e exceções no Python com a try e except, além disso, finally **"
   ]
  }
 ],
 "metadata": {
  "kernelspec": {
   "display_name": "Python 3",
   "language": "python",
   "name": "python3"
  },
  "language_info": {
   "codemirror_mode": {
    "name": "ipython",
    "version": 3
   },
   "file_extension": ".py",
   "mimetype": "text/x-python",
   "name": "python",
   "nbconvert_exporter": "python",
   "pygments_lexer": "ipython3",
   "version": "3.6.1"
  }
 },
 "nbformat": 4,
 "nbformat_minor": 1
}
