{
 "cells": [
  {
   "cell_type": "markdown",
   "metadata": {},
   "source": [
    "# Medindo o tempo do seu código\n",
    "Às vezes, é importante saber em quanto tempo o seu código está sendo executado ou, pelo menos, saber se uma determinada linha de código está trancando seu projeto inteiro. O Python possui um módulo de temporização incorporado para fazer isso.\n",
    "\n",
    "Este módulo fornece uma maneira simples para o medir o tempo de pequenos bits do código Python. Possui tanto uma interface de linha de comando quanto uma chamada. Ele evita várias armadilhas comuns para medir os tempos de execução.\n",
    "\n",
    "Vamos aprender sobre o timeit!"
   ]
  },
  {
   "cell_type": "code",
   "execution_count": 1,
   "metadata": {
    "collapsed": true
   },
   "outputs": [],
   "source": [
    "import timeit"
   ]
  },
  {
   "cell_type": "markdown",
   "metadata": {},
   "source": [
    "Lets use time it to time various methods of creating the string '0-1-2-3-.....-99'\n",
    "\n",
    "We'll pass two arguments the actual line we want to test encapsulated as a string and the number of times we wish to run it. Here we'll choose 10,000 runs to get some high enough numbers to compare various methods.\n",
    "\n",
    "\n",
    "Permite usar timeit para medir a eficiência de vários métodos para criar a string '0-1-2-3 -.....- 99'\n",
    "\n",
    "Passaremos dois argumentos: a linha real que queremos testar encapsulada como uma string e o número de vezes que desejamos executá-la. Aqui escolheremos 10.000 corridas para obter alguns números suficientemente altos para comparar vários métodos."
   ]
  },
  {
   "cell_type": "code",
   "execution_count": 2,
   "metadata": {},
   "outputs": [
    {
     "data": {
      "text/plain": [
       "0.32623234873539353"
      ]
     },
     "execution_count": 2,
     "metadata": {},
     "output_type": "execute_result"
    }
   ],
   "source": [
    "# For\n",
    "timeit.timeit('\"-\".join(str(n) for n in range(100))', number=10000)"
   ]
  },
  {
   "cell_type": "code",
   "execution_count": 4,
   "metadata": {},
   "outputs": [
    {
     "data": {
      "text/plain": [
       "0.4375258499537953"
      ]
     },
     "execution_count": 4,
     "metadata": {},
     "output_type": "execute_result"
    }
   ],
   "source": [
    "# Compreensão em listas\n",
    "timeit.timeit('\"-\".join([str(n) for n in range(100)])', number=10000)"
   ]
  },
  {
   "cell_type": "code",
   "execution_count": 16,
   "metadata": {},
   "outputs": [
    {
     "data": {
      "text/plain": [
       "0.16328215599060059"
      ]
     },
     "execution_count": 16,
     "metadata": {},
     "output_type": "execute_result"
    }
   ],
   "source": [
    "# Map()\n",
    "timeit.timeit('\"-\".join(map(str, range(100)))', number=10000)"
   ]
  },
  {
   "cell_type": "markdown",
   "metadata": {},
   "source": [
    "Ótimo! Vemos uma diferença de tempo significativa usando o map()! É bom saber isso e devemos ter isso em mente.\n",
    "\n",
    "Agora vamos apresentar a função mágica do iPython %timeit\n",
    "O %timeit do iPython executará o código na mesma linha um certo número de vezes (loops) e lhe dará o tempo de desempenho mais rápido (o melhor de 3).\n",
    "\n",
    "Vamos repetir os exames acima usando a mágina do iPython!"
   ]
  },
  {
   "cell_type": "code",
   "execution_count": 17,
   "metadata": {},
   "outputs": [
    {
     "name": "stdout",
     "output_type": "stream",
     "text": [
      "10000 loops, best of 3: 23.8 µs per loop\n"
     ]
    }
   ],
   "source": [
    "%timeit \"-\".join(str(n) for n in range(100))"
   ]
  },
  {
   "cell_type": "code",
   "execution_count": 18,
   "metadata": {},
   "outputs": [
    {
     "name": "stdout",
     "output_type": "stream",
     "text": [
      "10000 loops, best of 3: 21.3 µs per loop\n"
     ]
    }
   ],
   "source": [
    "%timeit \"-\".join([str(n) for n in range(100)])"
   ]
  },
  {
   "cell_type": "code",
   "execution_count": 19,
   "metadata": {},
   "outputs": [
    {
     "name": "stdout",
     "output_type": "stream",
     "text": [
      "100000 loops, best of 3: 13.5 µs per loop\n"
     ]
    }
   ],
   "source": [
    "%timeit \"-\".join(map(str, range(100)))"
   ]
  },
  {
   "cell_type": "markdown",
   "metadata": {},
   "source": [
    "Ótimo! Nós chegamos na mesma conclusão. Também é importante notar que o iPython irá limitar a quantidade de *tempo real* que seu programa irá gastar no timeit. Por exemplo, se a execução de 100000 loops demorasse 10 minutos, o iPython reduziria automaticamente o número de loops para algo mais razoável, como 100 ou 1000.\n",
    "\n",
    "Ótimo! Agora você deve se sentir confortável medindo tempos do seu código, tanto dentro como fora do iPython. Confira a documentação para obter mais informações:\n",
    "https://docs.python.org/2/library/timeit.html"
   ]
  }
 ],
 "metadata": {
  "kernelspec": {
   "display_name": "Python 3",
   "language": "python",
   "name": "python3"
  },
  "language_info": {
   "codemirror_mode": {
    "name": "ipython",
    "version": 3
   },
   "file_extension": ".py",
   "mimetype": "text/x-python",
   "name": "python",
   "nbconvert_exporter": "python",
   "pygments_lexer": "ipython3",
   "version": "3.6.1"
  }
 },
 "nbformat": 4,
 "nbformat_minor": 1
}
