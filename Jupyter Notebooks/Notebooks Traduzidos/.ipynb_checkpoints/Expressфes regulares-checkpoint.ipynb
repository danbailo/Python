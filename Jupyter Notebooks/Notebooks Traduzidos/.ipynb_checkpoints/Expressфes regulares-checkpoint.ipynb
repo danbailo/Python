{
 "cells": [
  {
   "cell_type": "markdown",
   "metadata": {},
   "source": [
    "# Expressões regulares\n",
    "\n",
    "Expressões regulares são padrões de correspondência de texto descritos com uma sintaxe formal. Muitas vezes você ouvirá expressões regulares referidas como 'regex' ou 'regexp' na conversa. As expressões regulares podem incluir uma variedade de regras, a busca de repetição, a correspondência de texto e muito mais. Ao avançar no Python, você verá que muitos dos seus problemas de análise podem ser resolvidos com expressões regulares (eles também são uma pergunta de entrevista comum!).\n",
    "\n",
    "Se você estiver familiarizado com Perl, você notará que a sintaxe para expressões regulares é muito similar em Python. Vamos usar o módulo re com Python para esta aula.\n",
    "\n",
    "Vamos começar!"
   ]
  },
  {
   "cell_type": "markdown",
   "metadata": {},
   "source": [
    "## Procurando padrões em texto\n",
    "\n",
    "Um dos usos mais comuns para o módulo re é encontrar padrões no texto. Vamos fazer um exemplo rápido de uso  do método de busca para encontrar algum texto:"
   ]
  },
  {
   "cell_type": "code",
   "execution_count": 3,
   "metadata": {},
   "outputs": [
    {
     "name": "stdout",
     "output_type": "stream",
     "text": [
      "Searching for \"term1\" in: \n",
      "\"This is a string with term1, but it does not have the other term.\"\n",
      "\n",
      "\n",
      "Match was found. \n",
      "\n",
      "Searching for \"term2\" in: \n",
      "\"This is a string with term1, but it does not have the other term.\"\n",
      "\n",
      "\n",
      "No Match was found.\n",
      "\n"
     ]
    }
   ],
   "source": [
    "import re\n",
    "\n",
    "# Lista de padrões para procurar\n",
    "patterns = ['term1', 'term2']\n",
    "\n",
    "# Texto para analisar\n",
    "text = 'This is a string with term1, but it does not have the other term.'\n",
    "\n",
    "for pattern in patterns:\n",
    "    print('Searching for \"%s\" in: \\n\"%s\"' % (pattern, text))\n",
    "    \n",
    "    # Checa por correspondencia\n",
    "    if re.search(pattern, text):\n",
    "        print('\\n')\n",
    "        print('Match was found. \\n')\n",
    "    else:\n",
    "        print('\\n')\n",
    "        print('No Match was found.\\n')"
   ]
  },
  {
   "cell_type": "markdown",
   "metadata": {},
   "source": [
    "Agora vimos que re.search () irá pegar o padrão, escanear o texto e retornar um objeto ** Match **. Se nenhum padrão for encontrado, um **None** será retornado. Para dar uma imagem mais clara desse objeto de correspondência, confira a célula abaixo:"
   ]
  },
  {
   "cell_type": "code",
   "execution_count": 4,
   "metadata": {},
   "outputs": [
    {
     "data": {
      "text/plain": [
       "_sre.SRE_Match"
      ]
     },
     "execution_count": 4,
     "metadata": {},
     "output_type": "execute_result"
    }
   ],
   "source": [
    "# Lista de padrões para procurar\n",
    "pattern = 'term1'\n",
    "\n",
    "# Texto para analisar\n",
    "text = 'This is a string with term1, but it does not have the other term.'\n",
    "\n",
    "match = re.search(pattern, text)\n",
    "\n",
    "type(match)"
   ]
  },
  {
   "cell_type": "markdown",
   "metadata": {},
   "source": [
    "Este objeto ** Match ** retornado pelo método search() é mais do que apenas um Boolean ou None, ele contém informações sobre a partida, incluindo a string de entrada original, a expressão regular que foi usada e a localização da correspondência. Vamos ver os métodos que podemos usar no objeto de correspondência:"
   ]
  },
  {
   "cell_type": "code",
   "execution_count": 21,
   "metadata": {},
   "outputs": [
    {
     "data": {
      "text/plain": [
       "22"
      ]
     },
     "execution_count": 21,
     "metadata": {},
     "output_type": "execute_result"
    }
   ],
   "source": [
    "# Mostra o índuce de ínicio de uma correspondência\n",
    "match.start()"
   ]
  },
  {
   "cell_type": "code",
   "execution_count": 23,
   "metadata": {},
   "outputs": [
    {
     "data": {
      "text/plain": [
       "27"
      ]
     },
     "execution_count": 23,
     "metadata": {},
     "output_type": "execute_result"
    }
   ],
   "source": [
    "# Mostra o fim\n",
    "match.end()"
   ]
  },
  {
   "cell_type": "markdown",
   "metadata": {},
   "source": [
    "## Split com expressões regulares\n",
    "\n",
    "Vamos ver como podemos dividir com a sintaxe do re. Isso deve parecer semelhante à forma como você usou o método split() com strings."
   ]
  },
  {
   "cell_type": "code",
   "execution_count": 25,
   "metadata": {},
   "outputs": [
    {
     "data": {
      "text/plain": [
       "['What is the domain name of someone with the email: hello', 'gmail.com']"
      ]
     },
     "execution_count": 25,
     "metadata": {},
     "output_type": "execute_result"
    }
   ],
   "source": [
    "# Termo onde realizaremos a divisão\n",
    "split_term = '@'\n",
    "\n",
    "phrase = 'What is the domain name of someone with the email: hello@gmail.com'\n",
    "\n",
    "# Divide a frase\n",
    "re.split(split_term,phrase)"
   ]
  },
  {
   "cell_type": "markdown",
   "metadata": {},
   "source": [
    "Observe como re.split() retorna uma lista com o termo removido e os termos na lista são uma versão dividida da seqüência de caracteres. \n",
    "\n",
    "## Encontrando todas as instâncias de um padrão\n",
    "\n",
    "Você pode usar re.findall() para encontrar todas as instâncias de um padrão em uma string. Por exemplo:"
   ]
  },
  {
   "cell_type": "code",
   "execution_count": 35,
   "metadata": {},
   "outputs": [
    {
     "data": {
      "text/plain": [
       "['match']"
      ]
     },
     "execution_count": 35,
     "metadata": {},
     "output_type": "execute_result"
    }
   ],
   "source": [
    "# Retorna uma lista de todas as correspondências\n",
    "re.findall('match','test phrase match is in middle')"
   ]
  },
  {
   "cell_type": "markdown",
   "metadata": {},
   "source": [
    "## Padrão da sintaxe re\n",
    "\n",
    "Esta será a maior parte desta palestra sobre o uso de re com Python. As expressões regulares suportam uma grande variedade de padrões simplesmente descobrindo onde uma única seqüência ocorreu.\n",
    "\n",
    "Podemos usar *metacaracteres* juntamente com re para encontrar tipos específicos de padrões.\n",
    "\n",
    "Uma vez que estaremos testando múltiplos formas do re, vamos criar uma função que imprimirá resultados, dada uma lista de várias expressões regulares e uma frase para analisar:"
   ]
  },
  {
   "cell_type": "code",
   "execution_count": 6,
   "metadata": {
    "collapsed": true
   },
   "outputs": [],
   "source": [
    "def multi_re_find(patterns,phrase):\n",
    "    '''\n",
    "    Toma uma lista de padrões regex\n",
    "    Imprime uma lista de todas as partidas\n",
    "    '''\n",
    "    for pattern in patterns:\n",
    "        print('Searching the phrase using the re check: %r' %pattern)\n",
    "        print(re.findall(pattern,phrase))\n",
    "        print('\\n')"
   ]
  },
  {
   "cell_type": "markdown",
   "metadata": {},
   "source": [
    "### Sintaxe de repetição\n",
    "\n",
    "Existem cinco maneiras de expressar a repetição em um padrão:\n",
    "\n",
    "     1.) Um padrão seguido por um metacaractere * é repetido zero ou mais vezes.\n",
    "     2.) Substitua o * por + e o padrão deve aparecer pelo menos uma vez.\n",
    "     3.) Usar ? significa que o padrão aparece zero ou uma vez.\n",
    "     4.) Para um número específico de ocorrências, use {m} após o padrão, onde m é substituído pelo número de vezes que o padrão deve repetir.\n",
    "     5.) Use {m, n} onde m é o número mínimo de repetições e n é o máximo.\n",
    "    \n",
    "Agora, veremos um exemplo de cada um destes usando nossa função multi_re_find:"
   ]
  },
  {
   "cell_type": "code",
   "execution_count": 7,
   "metadata": {},
   "outputs": [
    {
     "name": "stdout",
     "output_type": "stream",
     "text": [
      "Searching the phrase using the re check: 'sd*'\n",
      "['sd', 'sd', 's', 's', 'sddd', 'sddd', 'sddd', 'sd', 's', 's', 's', 's', 's', 's', 'sdddd']\n",
      "\n",
      "\n",
      "Searching the phrase using the re check: 'sd+'\n",
      "['sd', 'sd', 'sddd', 'sddd', 'sddd', 'sd', 'sdddd']\n",
      "\n",
      "\n",
      "Searching the phrase using the re check: 'sd?'\n",
      "['sd', 'sd', 's', 's', 'sd', 'sd', 'sd', 'sd', 's', 's', 's', 's', 's', 's', 'sd']\n",
      "\n",
      "\n",
      "Searching the phrase using the re check: 'sd{3}'\n",
      "['sddd', 'sddd', 'sddd', 'sddd']\n",
      "\n",
      "\n",
      "Searching the phrase using the re check: 'sd{2,3}'\n",
      "['sddd', 'sddd', 'sddd', 'sddd']\n",
      "\n",
      "\n"
     ]
    }
   ],
   "source": [
    "test_phrase = 'sdsd..sssddd...sdddsddd...dsds...dsssss...sdddd'\n",
    "\n",
    "test_patterns = [ 'sd*',     # s seguido de zero ou mais d's\n",
    "                'sd+',          # s seguido de um ou mais d's\n",
    "                'sd?',          # s seguido por zero ou um d\n",
    "                'sd{3}',        # s seguido por três d's\n",
    "                'sd{2,3}',      # s seguido de dois a três d's\n",
    "                ]\n",
    "\n",
    "multi_re_find(test_patterns,test_phrase)"
   ]
  },
  {
   "cell_type": "markdown",
   "metadata": {},
   "source": [
    "## Conjuntos de caracteres\n",
    "\n",
    "Os conjuntos de caracteres são usados quando você deseja combinar qualquer grupo de caracteres na entrada. Os colchetes são usados para construir entradas de conjunto de caracteres. Por exemplo: a entrada [ab] procura as ocorrências de a ou b.\n",
    "Vamos ver alguns exemplos:"
   ]
  },
  {
   "cell_type": "code",
   "execution_count": 8,
   "metadata": {},
   "outputs": [
    {
     "name": "stdout",
     "output_type": "stream",
     "text": [
      "Searching the phrase using the re check: '[sd]'\n",
      "['s', 'd', 's', 'd', 's', 's', 's', 'd', 'd', 'd', 's', 'd', 'd', 'd', 's', 'd', 'd', 'd', 'd', 's', 'd', 's', 'd', 's', 's', 's', 's', 's', 's', 'd', 'd', 'd', 'd']\n",
      "\n",
      "\n",
      "Searching the phrase using the re check: 's[sd]+'\n",
      "['sdsd', 'sssddd', 'sdddsddd', 'sds', 'sssss', 'sdddd']\n",
      "\n",
      "\n"
     ]
    }
   ],
   "source": [
    "test_phrase = 'sdsd..sssddd...sdddsddd...dsds...dsssss...sdddd'\n",
    "\n",
    "test_patterns = [ '[sd]',    # s ou d\n",
    "            's[sd]+']   # s seguido de um ou mais s ou d's\n",
    "            \n",
    "\n",
    "multi_re_find(test_patterns,test_phrase)"
   ]
  },
  {
   "cell_type": "markdown",
   "metadata": {},
   "source": [
    "## Exclusão\n",
    "\n",
    "Podemos usar ^ para excluir termos incorporando-os na notação de colchetes. Por exemplo: [^ ...] irá combinar qualquer caracter que não esteja nos colchetes. Vamos ver alguns exemplos:"
   ]
  },
  {
   "cell_type": "code",
   "execution_count": 10,
   "metadata": {
    "collapsed": true
   },
   "outputs": [],
   "source": [
    "test_phrase = 'This is a string! But it has punctuation. How can we remove it?'"
   ]
  },
  {
   "cell_type": "markdown",
   "metadata": {},
   "source": [
    "Use [^!.? ] para verificar se há correspondências que não são  !,.,? ou espaço. Adicione o + para verificar se a correspondência aparece pelo menos uma vez, isso basicamente se traduz em encontrar as palavras."
   ]
  },
  {
   "cell_type": "code",
   "execution_count": 11,
   "metadata": {},
   "outputs": [
    {
     "data": {
      "text/plain": [
       "['This',\n",
       " 'is',\n",
       " 'a',\n",
       " 'string',\n",
       " 'But',\n",
       " 'it',\n",
       " 'has',\n",
       " 'punctuation',\n",
       " 'How',\n",
       " 'can',\n",
       " 'we',\n",
       " 'remove',\n",
       " 'it']"
      ]
     },
     "execution_count": 11,
     "metadata": {},
     "output_type": "execute_result"
    }
   ],
   "source": [
    "re.findall('[^!.? ]+',test_phrase)"
   ]
  },
  {
   "cell_type": "markdown",
   "metadata": {},
   "source": [
    "## Intervalos de caracteres\n",
    "\n",
    "À medida que os conjuntos de caracteres crescem, a digitação de cada caracter que deve (ou não) corresponder pode tornar-se muito tediosa. Um formato mais compacto usando intervalos de caracteres permite que você defina um conjunto de caracteres para incluir todos os caracteres contíguos entre um ponto de início e de parada. O formato utilizado é [inicio-fim].\n",
    "\n",
    "Os casos de uso comum são para procurar um intervalo específico de letras no alfabeto, como [a-f] retornaria as correspondências com qualquer instância de letras entre a e f.\n",
    "\n",
    "Passemos por alguns exemplos:"
   ]
  },
  {
   "cell_type": "code",
   "execution_count": 12,
   "metadata": {},
   "outputs": [
    {
     "name": "stdout",
     "output_type": "stream",
     "text": [
      "Searching the phrase using the re check: '[a-z]+'\n",
      "['his', 'is', 'an', 'example', 'sentence', 'ets', 'see', 'if', 'we', 'can', 'find', 'some', 'letters']\n",
      "\n",
      "\n",
      "Searching the phrase using the re check: '[A-Z]+'\n",
      "['T', 'L']\n",
      "\n",
      "\n",
      "Searching the phrase using the re check: '[a-zA-Z]+'\n",
      "['This', 'is', 'an', 'example', 'sentence', 'Lets', 'see', 'if', 'we', 'can', 'find', 'some', 'letters']\n",
      "\n",
      "\n",
      "Searching the phrase using the re check: '[A-Z][a-z]+'\n",
      "['This', 'Lets']\n",
      "\n",
      "\n"
     ]
    }
   ],
   "source": [
    "\n",
    "test_phrase = 'This is an example sentence. Lets see if we can find some letters.'\n",
    "\n",
    "test_patterns=[ '[a-z]+',      # sequências de letras minúsculas\n",
    "                '[A-Z]+',      # sequências de letras maiúsculas\n",
    "                '[a-zA-Z]+',   # sequências de letras maiúsculas ou minúsculas\n",
    "                '[A-Z][a-z]+'] # uma letra maiúscula seguida de letras minúsculas\n",
    "                \n",
    "multi_re_find(test_patterns,test_phrase)"
   ]
  },
  {
   "cell_type": "markdown",
   "metadata": {},
   "source": [
    "## Conclusão\n",
    "\n",
    "Agora você deve ter uma compreensão sólida de como usar o módulo de expressão regular em Python. Você pode verificar a documentação completa [aqui](https://docs.python.org/2/library/re.html#regular-expression-syntax).\n",
    "\n",
    "Você também pode verificar as ótimas tabelas de resumo [aqui](http://www.tutorialspoint.com/python/python_reg_expressions.htm).\n",
    "\n",
    "Bom trabalho!\n"
   ]
  }
 ],
 "metadata": {
  "kernelspec": {
   "display_name": "Python 3",
   "language": "python",
   "name": "python3"
  },
  "language_info": {
   "codemirror_mode": {
    "name": "ipython",
    "version": 3
   },
   "file_extension": ".py",
   "mimetype": "text/x-python",
   "name": "python",
   "nbconvert_exporter": "python",
   "pygments_lexer": "ipython3",
   "version": "3.5.3"
  }
 },
 "nbformat": 4,
 "nbformat_minor": 1
}
