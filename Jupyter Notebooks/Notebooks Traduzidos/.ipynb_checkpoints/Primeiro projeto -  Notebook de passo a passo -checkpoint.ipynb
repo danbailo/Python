{
 "cells": [
  {
   "cell_type": "markdown",
   "metadata": {},
   "source": [
    "# Primeiro projeto - Notebook de passo a passo\n",
    "\n",
    "Abaixo está um conjunto de passos para você seguir para tentar criar o jogo da velha!"
   ]
  },
  {
   "cell_type": "markdown",
   "metadata": {},
   "source": [
    "** Passo 1: Escreva uma função que pode imprimir o tabuleiro. Configure-o como uma lista, onde cada índice 1-9 corresponde a um número em um bloco de números, para que você obtenha uma representação do tabuleiro 3 por 3. **"
   ]
  },
  {
   "cell_type": "code",
   "execution_count": 8,
   "metadata": {
    "collapsed": true
   },
   "outputs": [],
   "source": [
    "from IPython.display import clear_output\n",
    "def display_board(board):\n",
    "    \n",
    "    clear_output()\n",
    "    print('   |   |   ')\n",
    "    print(' '+ board[7]+' | '+board[8]+' | '+board[9])\n",
    "    print('   |   |   ')\n",
    "    print('-------------')\n",
    "    print('   |   |   ')\n",
    "    print(' '+ board[4]+' | '+board[5]+' | '+board[6])\n",
    "    print('   |   |   ')\n",
    "    print('-------------')\n",
    "    print('   |   |   ')\n",
    "    print(' '+ board[1]+' | '+board[2]+' | '+board[3])\n",
    "    print('   |   |   ')"
   ]
  },
  {
   "cell_type": "markdown",
   "metadata": {},
   "source": [
    "** Passo 2: Escreva uma função que pode receber uma entrada de jogador e atribua seu marcador como 'X' ou 'O'. Pense em usar * while * para pedir jogadas continuamente até obter uma resposta correta. **"
   ]
  },
  {
   "cell_type": "code",
   "execution_count": 15,
   "metadata": {},
   "outputs": [],
   "source": [
    "def player_input():\n",
    "    \n",
    "    market = ''\n",
    "    while not (market == 'X' or market == 'O'):\n",
    "        market = input('Player 1: Você quer ser X ou O?').upper()\n",
    "    \n",
    "    if marker == 'X':\n",
    "        return ('X', 'O')\n",
    "    else:\n",
    "        return ('O', 'X')"
   ]
  },
  {
   "cell_type": "markdown",
   "metadata": {},
   "source": [
    "** Passo 3: Escreva uma função que recebe, no objeto da lista do tabuleiro, um marcador ('X' ou 'O') e uma posição desejada (número 1-9) e atribuia-o ao tabuleiro. **"
   ]
  },
  {
   "cell_type": "code",
   "execution_count": 16,
   "metadata": {
    "collapsed": true
   },
   "outputs": [],
   "source": [
    "def place_marker(board, marker, position):\n",
    "    board[position] = marker"
   ]
  },
  {
   "cell_type": "markdown",
   "metadata": {},
   "source": [
    "** Etapa 4: escreva uma função que recebe um tabuleiro e uma jogada (X ou O) e, em seguida, verifica se essa jogada ganhou. **"
   ]
  },
  {
   "cell_type": "code",
   "execution_count": 17,
   "metadata": {
    "collapsed": true
   },
   "outputs": [],
   "source": [
    "def win_check(board,mark):\n",
    "    return ((board[7] == mark and board[8] == mark and board[9] == mark) or # vitória pelo topo\n",
    "    (board[4] == mark and board[5] == mark and board[6] == mark) or # pelo meio\n",
    "    (board[1] == mark and board[2] == mark and board[3] == mark) or # por baixo\n",
    "    (board[7] == mark and board[4] == mark and board[1] == mark) or # pela esquda\n",
    "    (board[8] == mark and board[5] == mark and board[2] == mark) or # pelo meio\n",
    "    (board[9] == mark and board[6] == mark and board[3] == mark) or # pela direita\n",
    "    (board[7] == mark and board[5] == mark and board[3] == mark) or # diagonal\n",
    "    (board[9] == mark and board[5] == mark and board[1] == mark)) # diagonal"
   ]
  },
  {
   "cell_type": "markdown",
   "metadata": {},
   "source": [
    "\n",
    "** Etapa 5: Escreva uma função que usa o módulo random para decidir aleatoriamente qual jogador é o primeiro. Você pode querer pesquisar random.randint () Retornar uma string de qual jogador foi primeiro. **"
   ]
  },
  {
   "cell_type": "code",
   "execution_count": 19,
   "metadata": {},
   "outputs": [],
   "source": [
    "import random\n",
    "def choose_first():\n",
    "    if random.randint(0, 1) == 0:\n",
    "        return 'Player 2'\n",
    "    else:\n",
    "        return 'Player 1'"
   ]
  },
  {
   "cell_type": "markdown",
   "metadata": {},
   "source": [
    "** Passo 6: Escreva uma função que retorna um booleano indicando se um espaço na placa está livremente disponível. **"
   ]
  },
  {
   "cell_type": "code",
   "execution_count": 20,
   "metadata": {
    "collapsed": true
   },
   "outputs": [],
   "source": [
    "def space_check(board, position):\n",
    "    \n",
    "    return board[position] == ' '"
   ]
  },
  {
   "cell_type": "markdown",
   "metadata": {},
   "source": [
    "** Passo 7: escreva uma função que verifica se a placa está cheia e retorna um valor booleano. Verdadeiro se cheio, Falso de outra forma. **"
   ]
  },
  {
   "cell_type": "code",
   "execution_count": 22,
   "metadata": {},
   "outputs": [],
   "source": [
    "def full_board_check(board):\n",
    "    for i in range(0, 10):\n",
    "        if space_check(board, i):\n",
    "            return False\n",
    "        \n",
    "    return True"
   ]
  },
  {
   "cell_type": "markdown",
   "metadata": {},
   "source": [
    "\n",
    "** Etapa 8: Escreva uma função que solicita a próxima posição de um jogador (como número 1-9) e, em seguida, usa a função do passo 6 para verificar se é uma posição livre. Se for, então retorne a posição para uso posterior. **"
   ]
  },
  {
   "cell_type": "code",
   "execution_count": 26,
   "metadata": {},
   "outputs": [],
   "source": [
    "def player_choice(board):\n",
    "    position = ' '\n",
    "    \n",
    "    while position not in '1 2 3 4 5 6 7 8 9'.split() or not space_check(board, int(position)):\n",
    "        position = input('Escolha sua jogada (1-9) ')\n",
    "    \n",
    "    return int(position)"
   ]
  },
  {
   "cell_type": "markdown",
   "metadata": {},
   "source": [
    "** Passo 9: escreva uma função que pede ao jogador se eles querem jogar novamente e retorna um verdadeiro booleano se eles quiserem jogar novamente. **"
   ]
  },
  {
   "cell_type": "code",
   "execution_count": 95,
   "metadata": {
    "collapsed": true
   },
   "outputs": [],
   "source": [
    "def replay():\n",
    "    \n",
    "    return input('Quer jogar novamente? \"SIM\" ou \"NAO\"').lower().startswith('s')"
   ]
  },
  {
   "cell_type": "markdown",
   "metadata": {
    "collapsed": true
   },
   "source": [
    "** Passo 10: Aqui vem a parte difícil! Use os loops e as funções que você fez para executar o jogo! **"
   ]
  },
  {
   "cell_type": "code",
   "execution_count": 1,
   "metadata": {},
   "outputs": [
    {
     "name": "stdout",
     "output_type": "stream",
     "text": [
      "Bem vindo ao jogo da velha!\n"
     ]
    }
   ],
   "source": [
    "print('Bem vindo ao jogo da velha!')\n",
    "\n",
    "while True:\n",
    "    # Defina o jogo\n",
    "    #pass\n",
    "    board = [' '] * 10\n",
    "    player1_marker, player2_marker = player_input()\n",
    "    turn = choose_first()\n",
    "    print(turn+' começa!')\n",
    "    \n",
    "    game_on = True\n",
    "\n",
    "    while game_on:\n",
    "        #Vez do jogador 1\n",
    "        if turn == 'Player 1':\n",
    "            display_board(board)\n",
    "            position = player_choice(board)\n",
    "            place_market(board, player1_marker, position)\n",
    "        \n",
    "        # Checa vitória\n",
    "        if win_check(board, player1_marker):\n",
    "            display_board(board)\n",
    "            print('Parabéns! Você venceu!')\n",
    "            game_on = False\n",
    "        else:\n",
    "            if full_board_check(board):\n",
    "                display_board(board)\n",
    "                print('Empate!')\n",
    "                break \n",
    "            else:\n",
    "                turn = 'Player 2'\n",
    "\n",
    "        #Vez do jogador 2\n",
    "        if turn == 'Player 2':\n",
    "            display_board(board)\n",
    "            position = player_choice(board)\n",
    "            place_market(board, player2_marker, position)\n",
    "        \n",
    "        # Checa vitória\n",
    "        if win_check(board, player2_marker):\n",
    "            display_board(board)\n",
    "            print('Parabéns! Você venceu!')\n",
    "            game_on = False\n",
    "        else:\n",
    "            if full_board_check(board):\n",
    "                display_board(board)\n",
    "                print('Empate!')\n",
    "                break\n",
    "            else:\n",
    "                turn = 'Player 1'\n",
    "\n",
    "    if not replay():\n",
    "        break"
   ]
  },
  {
   "cell_type": "markdown",
   "metadata": {
    "collapsed": true
   },
   "source": [
    "## Muito bem!"
   ]
  }
 ],
 "metadata": {
  "kernelspec": {
   "display_name": "Python 3",
   "language": "python",
   "name": "python3"
  },
  "language_info": {
   "codemirror_mode": {
    "name": "ipython",
    "version": 3
   },
   "file_extension": ".py",
   "mimetype": "text/x-python",
   "name": "python",
   "nbconvert_exporter": "python",
   "pygments_lexer": "ipython3",
   "version": "3.6.1"
  }
 },
 "nbformat": 4,
 "nbformat_minor": 1
}
