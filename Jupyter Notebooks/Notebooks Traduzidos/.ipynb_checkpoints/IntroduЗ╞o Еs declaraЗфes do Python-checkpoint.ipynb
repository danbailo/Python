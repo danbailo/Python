{
 "cells": [
  {
   "cell_type": "markdown",
   "metadata": {
    "slideshow": {
     "slide_type": "slide"
    }
   },
   "source": [
    "\n",
    "# Introdução às declarações do Python\n",
    "\n",
    "Nesta palestra, faremos uma rápida visão geral das declarações do Python. Esta palestra enfatizará as diferenças entre Python e outros idiomas, como o C ++.\n",
    "\n",
    "Existem duas razões pelas quais tomamos essa abordagem para aprender o contexto das declarações de Python:\n",
    "\n",
    "     1.) Se você vem de uma linguagem diferente, isso acelerará rapidamente sua compreensão sobre o Python.\n",
    "     2.) Aprender sobre declarações permitirá que você possa ler outras linguagens com mais facilidade no futuro."
   ]
  },
  {
   "cell_type": "markdown",
   "metadata": {
    "slideshow": {
     "slide_type": "slide"
    }
   },
   "source": [
    "## Python vs outras linguagens\n",
    "\n",
    "Vamos criar uma declaração simples que diga:\n",
    "\"Se a é maior que b, atribua 2 a **a** e 4 a **b**\"\n",
    "\n",
    "Dê uma olhada nessas duas afirmações if (aprenderemos sobre a construção de declarações if).\n",
    "\n",
    "** Versão 1 (Outras linguagens) **\n",
    "\n",
    "     se (a> b) {\n",
    "         a = 2;\n",
    "         b = 4;\n",
    "     }\n",
    "                        \n",
    "** Versão 2 (Python) **\n",
    "\n",
    "     se a> b:\n",
    "         a = 2\n",
    "         b = 4"
   ]
  },
  {
   "cell_type": "markdown",
   "metadata": {},
   "source": [
    "       \n",
    "Você notará que o Python está menos confuso e muito mais legível do que a primeira versão. Como o Python gerencia isso?\n",
    "\n",
    "Vamos percorrer as principais diferenças:\n",
    "\n",
    "Python se livra de () e {} incorporando dois fatores principais: os *dois pontos* e os *espaços em branco*. A declaração é terminada com dois pontos e o espaço em branco é usado (recuo) para descrever o que ocorre no caso da declaração.\n",
    "\n",
    "Outra grande diferença é a falta de ponto e vírgula em Python. Eles são usados ​​para denotar terminações de declaração em muitos outros idiomas, mas em Python, o final de uma linha é o mesmo que o final de uma declaração.\n",
    "\n",
    "Por fim, para terminar esta breve visão geral das diferenças, vamos examinar mais de perto a sintaxe de indentação em Python vs outros idiomas:\n",
    "\n",
    "## Indentação\n",
    "\n",
    "Aqui está um pseudo-código para indicar o uso de espaço em branco e indentação em Python:\n",
    "\n",
    "**Outras linguagens**\n",
    "\n",
    "    se (x)\n",
    "        se (y)\n",
    "            declaração de código;\n",
    "    outro\n",
    "        outra indicação de código;\n",
    "        \n",
    "** Python **\n",
    "    \n",
    "    se x:\n",
    "        se y:\n",
    "            declaração de código\n",
    "    outro:\n",
    "        outra declaração de código"
   ]
  },
  {
   "cell_type": "markdown",
   "metadata": {},
   "source": [
    "Observe como o Python é tão fortemente impulsionado por indentação de código e espaço em branco. Isso significa que a legibilidade do código é uma parte essencial do design da linguagem Python.\n",
    "\n",
    "Agora vamos começar a mergulhar mais fundo codificando esse tipo de afirmações em Python!"
   ]
  },
  {
   "cell_type": "code",
   "execution_count": null,
   "metadata": {
    "collapsed": true
   },
   "outputs": [],
   "source": []
  }
 ],
 "metadata": {
  "kernelspec": {
   "display_name": "Python 3",
   "language": "python",
   "name": "python3"
  },
  "language_info": {
   "codemirror_mode": {
    "name": "ipython",
    "version": 3
   },
   "file_extension": ".py",
   "mimetype": "text/x-python",
   "name": "python",
   "nbconvert_exporter": "python",
   "pygments_lexer": "ipython3",
   "version": "3.6.1"
  }
 },
 "nbformat": 4,
 "nbformat_minor": 1
}
