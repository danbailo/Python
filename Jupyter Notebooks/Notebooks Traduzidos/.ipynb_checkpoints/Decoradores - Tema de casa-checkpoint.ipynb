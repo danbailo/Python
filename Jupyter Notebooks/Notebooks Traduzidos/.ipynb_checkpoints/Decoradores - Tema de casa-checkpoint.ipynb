{
 "cells": [
  {
   "cell_type": "markdown",
   "metadata": {},
   "source": [
    "# Decoradores - Tema de casa (Opcional)\n",
    "\n",
    "Como você não vai se deparar com decoradores até começar a usá-la na prática, essa tarefa de casa é opcional. Confira o Web Framework [Flask](http://flask.pocoo.org/). Você pode usar o Flask para criar páginas da web com o Python (desde que você conheça algum HTML e CSS) e eles usam muito os decoradores! Aprenda como eles usam [view decorators](http://flask.pocoo.org/docs/0.12/patterns/viewdecorators/). Não se preocupe se você não entender completamente tudo sobre o Flask, o principal ponto desta lição de casa opcional é que você tem uma consciência de decoradores em Web Frameworks, dessa forma, se você decidir se tornar um desenvolvedor web Python \"Full-Stack\" , você não ficará perplexo com os decoradores. Você também pode dar uma olhada em [Django](https://www.djangoproject.com/) outra estrutura web (e mais popular) para o Python, que é um pouco mais pesado.\n",
    "\n",
    "Também para algumas informações adicionais:\n",
    "\n",
    "Uma estrutura é um tipo de biblioteca de software que fornece funcionalidade genérica que pode ser estendida pelo programador para criar aplicativos. Flask e Django são bons exemplos de frameworks destinados ao desenvolvimento web.\n",
    "\n",
    "Um framework se distingue de uma biblioteca ou API simples. Uma API é uma peça de software que um desenvolvedor pode usar em sua aplicação. Um framework é mais abrangente: seu aplicativo inteiro é estruturado em torno do framework (ou seja, ele fornece o quadro em torno do qual você constrói seu software).\n",
    "\n",
    "# Bom trabalho!"
   ]
  }
 ],
 "metadata": {
  "kernelspec": {
   "display_name": "Python 3",
   "language": "python",
   "name": "python3"
  },
  "language_info": {
   "codemirror_mode": {
    "name": "ipython",
    "version": 3
   },
   "file_extension": ".py",
   "mimetype": "text/x-python",
   "name": "python",
   "nbconvert_exporter": "python",
   "pygments_lexer": "ipython3",
   "version": "3.5.3"
  }
 },
 "nbformat": 4,
 "nbformat_minor": 1
}
