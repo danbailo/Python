{
 "cells": [
  {
   "cell_type": "markdown",
   "metadata": {},
   "source": [
    "# filter\n",
    "\n",
    "A função filter(função, lista) oferece uma maneira conveniente de filtrar todos os elementos de um iterável para o qual a função retorne True.\n",
    "\n",
    "A função filter(função (), l) precisa de uma função como seu primeiro argumento. A função precisa retornar um valor booleano (True ou False). Esta função será aplicada a cada elemento do iterable. Somente se a função retornar True, o elemento do iterable será incluído no resultado.\n",
    "\n",
    "Vamos ver alguns exemplos:"
   ]
  },
  {
   "cell_type": "code",
   "execution_count": 3,
   "metadata": {
    "collapsed": true
   },
   "outputs": [],
   "source": [
    "# Vamos criar uma função\n",
    "def even_check(num):\n",
    "    if num%2 ==0:\n",
    "        return True"
   ]
  },
  {
   "cell_type": "markdown",
   "metadata": {},
   "source": [
    "Agora vamos filtrar uma lista de números. Nota: colocar a função em filtro sem parênteses pode parecer estranho, mas tenha em mente que as funções também são objetos. A função filter retorna um objeto na memória onde o filtro ocorreu. Será necessário trasformá-lo em lista para visualizá-lo."
   ]
  },
  {
   "cell_type": "code",
   "execution_count": 14,
   "metadata": {},
   "outputs": [
    {
     "data": {
      "text/plain": [
       "[4, 16]"
      ]
     },
     "execution_count": 14,
     "metadata": {},
     "output_type": "execute_result"
    }
   ],
   "source": [
    "lista1 = [1, 4, 9, 16, 25]\n",
    "\n",
    "list(filter(even_check,lista1))"
   ]
  },
  {
   "cell_type": "markdown",
   "metadata": {},
   "source": [
    "filter() é mais comumente usado com funções lambda, porque usamos o filtro para um trabalho rápido, onde não queremos escrever uma função inteira. Vamos repetir o exemplo acima usando uma expressão lambda:"
   ]
  },
  {
   "cell_type": "code",
   "execution_count": 15,
   "metadata": {},
   "outputs": [
    {
     "data": {
      "text/plain": [
       "[0, 2, 4, 6, 8, 10, 12, 14, 16, 18]"
      ]
     },
     "execution_count": 15,
     "metadata": {},
     "output_type": "execute_result"
    }
   ],
   "source": [
    "list(filter(lambda x: x%2==0,lst))"
   ]
  },
  {
   "cell_type": "markdown",
   "metadata": {},
   "source": [
    "# Muito bem!"
   ]
  }
 ],
 "metadata": {
  "kernelspec": {
   "display_name": "Python 3",
   "language": "python",
   "name": "python3"
  },
  "language_info": {
   "codemirror_mode": {
    "name": "ipython",
    "version": 3
   },
   "file_extension": ".py",
   "mimetype": "text/x-python",
   "name": "python",
   "nbconvert_exporter": "python",
   "pygments_lexer": "ipython3",
   "version": "3.6.1"
  }
 },
 "nbformat": 4,
 "nbformat_minor": 1
}
