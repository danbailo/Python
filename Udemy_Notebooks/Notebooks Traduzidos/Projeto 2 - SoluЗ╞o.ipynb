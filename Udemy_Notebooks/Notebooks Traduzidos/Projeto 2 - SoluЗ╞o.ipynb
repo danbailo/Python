{
 "cells": [
  {
   "cell_type": "markdown",
   "metadata": {
    "collapsed": true
   },
   "source": [
    "# Projeto 2 - Solução\n",
    "Abaixo está a minha implementação de um jogo simples de Blackjack. Observe o uso de POO e classes para os cartões e mãos."
   ]
  },
  {
   "cell_type": "code",
   "execution_count": 1,
   "metadata": {
    "collapsed": true
   },
   "outputs": [],
   "source": [
    "# Embaralhas cartas\n",
    "import random\n",
    "\n",
    "playing = False\n",
    "chip_pool = 100\n",
    "\n",
    "bet = 1\n",
    "\n",
    "restart_phrase = \"Press 'd' to shuffle again or press 'q' to leave.\""
   ]
  },
  {
   "cell_type": "code",
   "execution_count": 2,
   "metadata": {
    "collapsed": true
   },
   "outputs": [],
   "source": [
    "suits = ('H', 'D', 'C', 'S')\n",
    "ranking = ('A', '2', '3', '4', '5', '6', '7', '8','9', '10', 'J', 'Q', 'K')\n",
    "\n",
    "card_val = {'A':1, '2':2, '3':3, '4':4, '5':5, '6':6, '7':7, '8':8, '9':9, '10':10, 'J':10, 'Q':10, 'K':10}"
   ]
  },
  {
   "cell_type": "code",
   "execution_count": 3,
   "metadata": {
    "collapsed": true
   },
   "outputs": [],
   "source": [
    "class Card:\n",
    "    def __init__(self, suit, rank):\n",
    "        self.suit = suit\n",
    "        self.rank = rank\n",
    "        \n",
    "    def __str__(self):\n",
    "        return self.suit + self.rank\n",
    "    \n",
    "    def grab_suit(self):\n",
    "        return self.suit\n",
    "    \n",
    "    def grab_rank(self):\n",
    "        return self.rank\n",
    "    \n",
    "    def draw(self):\n",
    "        print (self.suit + self.rank)"
   ]
  },
  {
   "cell_type": "code",
   "execution_count": 4,
   "metadata": {
    "collapsed": true
   },
   "outputs": [],
   "source": [
    "class Hand:\n",
    "    def __init__(self):\n",
    "        self.cards = []\n",
    "        self.value = 0\n",
    "        self.ace = False\n",
    "    \n",
    "    def __str__(self):\n",
    "        hand_comp = \"\"\n",
    "        \n",
    "        for card in self.cards:\n",
    "            card_name = card.__str__()\n",
    "            hand_comp += \" \" + card_name\n",
    "        \n",
    "        return \"The hand has {}\".format(hand_comp)\n",
    "    \n",
    "    def card_add(self, card):\n",
    "        self.cards.append(card)\n",
    "        \n",
    "        if card.rank=='A':\n",
    "            self.ace = True\n",
    "        self.value += card_val[card.rank]\n",
    "    \n",
    "    def calc_val(self):\n",
    "        if (self.ace == 'True' and self.value < 12):\n",
    "            return self.value + 10\n",
    "        else:\n",
    "            return self.value\n",
    "    \n",
    "    def draw(self, hidden):\n",
    "        if hidden==True and playing == True:\n",
    "            starting_card = 1\n",
    "        else:\n",
    "            starting_card = 0\n",
    "        for x in range(starting_card, len(self.cards)):\n",
    "            self.cards[x].draw()"
   ]
  },
  {
   "cell_type": "code",
   "execution_count": 5,
   "metadata": {
    "collapsed": true
   },
   "outputs": [],
   "source": [
    "class Deck:\n",
    "    \n",
    "    def __init__(self):\n",
    "        self.deck = []\n",
    "        \n",
    "        for suit in suits:\n",
    "            for rank in ranking:\n",
    "                self.deck.append(Card(suit, rank))\n",
    "        \n",
    "    def shuffle(self):\n",
    "        random.shuffle(self.deck)\n",
    "\n",
    "    def deal(self):\n",
    "        single_card = self.deck.pop()\n",
    "        return single_card\n",
    "\n",
    "    def __str__(self):\n",
    "        deck_comp = \"\"\n",
    "        for card in self.deck:\n",
    "            deck_comp += \" \" + card.__str__()\n",
    "\n",
    "        return \"The deck has \" + deck_comp"
   ]
  },
  {
   "cell_type": "code",
   "execution_count": 6,
   "metadata": {
    "collapsed": true
   },
   "outputs": [],
   "source": [
    "def make_bet():\n",
    "    global bet\n",
    "    bet = 0\n",
    "    \n",
    "    print(\"What amount of chips you like to bet? (Enter whole integer please)\")\n",
    "    \n",
    "    while bet == 0:\n",
    "        bet_comp = input()\n",
    "        bet_comp = int(bet_comp)\n",
    "        \n",
    "        if bet_comp >= 1 and bet_comp <= chip_pool:\n",
    "            bet = bet_comp\n",
    "        else:\n",
    "            print(\"Invalid bet. You have only \" + str(chip_pool) + \" chips remaining.\")"
   ]
  },
  {
   "cell_type": "code",
   "execution_count": 7,
   "metadata": {
    "collapsed": true
   },
   "outputs": [],
   "source": [
    "def deal_cards():\n",
    "    global result, playing, deck, player_hand, dealer_hand, chip_pool, bet\n",
    "    \n",
    "    deck = Deck()\n",
    "    deck.shuffle()\n",
    "    \n",
    "    make_bet()\n",
    "    \n",
    "    player_hand = Hand()\n",
    "    dealer_hand = Hand()\n",
    "    \n",
    "    # 2 Cartas para o Jogador\n",
    "    player_hand.card_add(deck.deal())\n",
    "    player_hand.card_add(deck.deal())\n",
    "    \n",
    "     # 2 Cartas para o Dealer\n",
    "    dealer_hand.card_add(deck.deal())\n",
    "    dealer_hand.card_add(deck.deal())\n",
    "    \n",
    "    result = \"Hit or Stand? Press 'h' or 's':\"\n",
    "        \n",
    "    playing = True\n",
    "    game_step()       "
   ]
  },
  {
   "cell_type": "code",
   "execution_count": 8,
   "metadata": {
    "collapsed": true
   },
   "outputs": [],
   "source": [
    "def hit():\n",
    "    \n",
    "    global playing, chip_pool, deck, player_hand, dealer_hand, result, bet\n",
    "    \n",
    "    if playing:\n",
    "        if player_hand.calc_val() <= 21:\n",
    "            player_hand.card_add(deck.deal())\n",
    "        print(\"Player hand is %s\" %player_hand)\n",
    "        \n",
    "        if player_hand.calc_val() >= 21:\n",
    "            result = \"Busted! \" + restart_phrase\n",
    "            chip_pool -= bet\n",
    "            playing = False\n",
    "        \n",
    "    else:\n",
    "        result = \"Sorry, can't hit! \" + restart_phrase\n",
    "    \n",
    "    game_step()"
   ]
  },
  {
   "cell_type": "code",
   "execution_count": 9,
   "metadata": {
    "collapsed": true
   },
   "outputs": [],
   "source": [
    "def stand():\n",
    "    global playing, chip_pool, deck, player_hand, dealer_hand, result, bet\n",
    "    \n",
    "    if playing == False:\n",
    "        if player_hand.calc_val() > 0:\n",
    "            result = \"Sorry,  you can't stand!\"\n",
    "    \n",
    "    else:\n",
    "        while dealer_hand.calc_val() < 17:\n",
    "            dealer_hand.card_add(deck.deal())\n",
    "            \n",
    "        if dealer_hand.calc_val() > 21:\n",
    "            result = \"Dealer busts! You win! \" + restart_phrase\n",
    "            chip_pool += bet\n",
    "            playing = False\n",
    "        \n",
    "        elif dealer_hand.calc_val() < player_hand.calc_val():\n",
    "            result = \"You bet the dealer! You win! \" + restart_phrase\n",
    "            chip_pool += bet\n",
    "            playing = False\n",
    "            \n",
    "        elif dealer_hand.calc_val() == player_hand.calc_val():\n",
    "            result = \"Tied up! \" + restart_phrase\n",
    "            playing = False\n",
    "        \n",
    "        else:\n",
    "            result = 'Dealer Wins! ' + restart_phrase\n",
    "            chip_pool -= bet\n",
    "            playing = False\n",
    "    game_step()"
   ]
  },
  {
   "cell_type": "code",
   "execution_count": 10,
   "metadata": {
    "collapsed": true
   },
   "outputs": [],
   "source": [
    "def game_step():\n",
    "    print(\"\")\n",
    "    print(\"Player hand is:\")\n",
    "    player_hand.draw(hidden=False)\n",
    "    print(\" Player hand total is: \" + str(player_hand.calc_val()))\n",
    "    \n",
    "    print(\"\")\n",
    "    print(\"Dealer hand is:\")\n",
    "    dealer_hand.draw(hidden=True)\n",
    "    print(\"Dealer hand total is: \" + str(dealer_hand.calc_val()))\n",
    "    \n",
    "    if playing == False:\n",
    "        print(\"Chip total: \"+str(chip_pool))\n",
    "    \n",
    "    print(result)\n",
    "    \n",
    "    player_input()    "
   ]
  },
  {
   "cell_type": "code",
   "execution_count": 11,
   "metadata": {
    "collapsed": true
   },
   "outputs": [],
   "source": [
    "def game_exit():\n",
    "    print(\"Thanks for playing!\")\n",
    "    exit()"
   ]
  },
  {
   "cell_type": "code",
   "execution_count": 12,
   "metadata": {
    "collapsed": true
   },
   "outputs": [],
   "source": [
    "def player_input():\n",
    "    plin = input().lower()\n",
    "    \n",
    "    if plin  == 'h':\n",
    "        hit()\n",
    "    elif plin  == 's':\n",
    "        stand()\n",
    "    elif plin  == 'd':\n",
    "        deal_cards()\n",
    "    elif plin  == 'q':\n",
    "        game_exit()\n",
    "    else:\n",
    "        print(\"Invalid input... Enter h, s, d or q: \")\n",
    "        player_input()"
   ]
  },
  {
   "cell_type": "code",
   "execution_count": 13,
   "metadata": {
    "collapsed": true
   },
   "outputs": [],
   "source": [
    "def intro():\n",
    "    statement = '''Welcome to BlackJack! Get as close to 21 as you can without going over!\n",
    "    Dealer hits until she reaches 17. Aces count as 1 or 11.\n",
    "    Card output goes a letter followed by a number of face notation'''\n",
    "    print(statement)"
   ]
  },
  {
   "cell_type": "code",
   "execution_count": null,
   "metadata": {},
   "outputs": [
    {
     "name": "stdout",
     "output_type": "stream",
     "text": [
      "Welcome to BlackJack! Get as close to 21 as you can without going over!\n",
      "    Dealer hits until she reaches 17. Aces count as 1 or 11.\n",
      "    Card output goes a letter followed by a number of face notation\n",
      "What amount of chips you like to bet? (Enter whole integer please)\n",
      "5\n",
      "\n",
      "Player hand is:\n",
      "C10\n",
      "C7\n",
      " Player hand total is: 17\n",
      "\n",
      "Dealer hand is:\n",
      "H5\n",
      "Dealer hand total is: 15\n",
      "Hit or Stand? Press 'h' or 's':\n"
     ]
    }
   ],
   "source": [
    "deck = Deck()\n",
    "deck.shuffle()\n",
    "\n",
    "player_hand = Hand()\n",
    "dealder_hand = Hand()\n",
    "\n",
    "intro()\n",
    "deal_cards()"
   ]
  },
  {
   "cell_type": "code",
   "execution_count": null,
   "metadata": {
    "collapsed": true
   },
   "outputs": [],
   "source": []
  }
 ],
 "metadata": {
  "kernelspec": {
   "display_name": "Python 3",
   "language": "python",
   "name": "python3"
  },
  "language_info": {
   "codemirror_mode": {
    "name": "ipython",
    "version": 3
   },
   "file_extension": ".py",
   "mimetype": "text/x-python",
   "name": "python",
   "nbconvert_exporter": "python",
   "pygments_lexer": "ipython3",
   "version": "3.6.1"
  }
 },
 "nbformat": 4,
 "nbformat_minor": 1
}
