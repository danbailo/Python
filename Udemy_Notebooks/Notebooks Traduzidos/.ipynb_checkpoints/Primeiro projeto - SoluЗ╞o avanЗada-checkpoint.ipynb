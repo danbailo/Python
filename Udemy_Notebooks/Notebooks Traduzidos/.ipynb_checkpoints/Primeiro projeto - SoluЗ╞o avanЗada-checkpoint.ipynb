{
 "cells": [
  {
   "cell_type": "markdown",
   "metadata": {},
   "source": [
    "# Jogo da velha\n",
    "\n",
    "Esta é a solução para o nosso projeto do jogo da vela! Um jogo de dois jogadores feito dentro de um Jupyter Notebook. Sinta-se à vontade para baixar o caderno para entender como funciona!"
   ]
  },
  {
   "cell_type": "markdown",
   "metadata": {},
   "source": [
    "Primeiro, algumas importações que precisaremos usar para exibir a saída e definir as variáveis globais"
   ]
  },
  {
   "cell_type": "code",
   "execution_count": 4,
   "metadata": {
    "collapsed": true
   },
   "outputs": [],
   "source": [
    "# Especificamente para o ambiente do iPython Notebook para limpar a saída.\n",
    "from IPython.display import clear_output\n",
    "\n",
    "# Variáveis globais\n",
    "board = [' '] * 10\n",
    "game_state = True\n",
    "announce = ''"
   ]
  },
  {
   "cell_type": "markdown",
   "metadata": {},
   "source": [
    "Em seguida, faça uma função que irá redefinir o tabuleiro, neste caso, vamos armazenar valores como uma lista."
   ]
  },
  {
   "cell_type": "code",
   "execution_count": 5,
   "metadata": {},
   "outputs": [],
   "source": [
    "# Nota: o jogo ignorará o índice 0\n",
    "def reset_board():\n",
    "    global board,game_state\n",
    "    board = [' '] * 10\n",
    "    game_state = True"
   ]
  },
  {
   "cell_type": "markdown",
   "metadata": {},
   "source": [
    "Agora, crie uma função para exibir o tabuleiro, eu usarei o teclado numérico como a referência do tabuleiro."
   ]
  },
  {
   "cell_type": "code",
   "execution_count": 7,
   "metadata": {},
   "outputs": [],
   "source": [
    "def display_board():\n",
    "    ''' Esta função imprime o tabuleiro de modo que o numpad possa ser usado como uma referência '''\n",
    "    # Limpa o output\n",
    "    clear_output()\n",
    "    # Printa o tabuleiro\n",
    "    print(\"  \"+board[7]+\" |\"+board[8]+\" | \"+board[9]+\" \")\n",
    "    print(\"------------\")\n",
    "    print(\"  \"+board[4]+\" |\"+board[5]+\" | \"+board[6]+\" \")\n",
    "    print(\"------------\")\n",
    "    print(\"  \"+board[1]+\" |\"+board[2]+\" | \"+board[3]+\" \")\n"
   ]
  },
  {
   "cell_type": "markdown",
   "metadata": {},
   "source": [
    "Defina uma função para verificar uma vitória comparando as entradas na lista do tabuleiro. Nota: Talvez devessemos apenas criar uma lista com combinações vencedoras e após percorre-las?"
   ]
  },
  {
   "cell_type": "code",
   "execution_count": 4,
   "metadata": {},
   "outputs": [],
   "source": [
    "def win_check(board, player):\n",
    "    ''' Check Horizontals,Verticals, and Diagonals for a win '''\n",
    "    if (board[7]  ==  board[8] ==  board[9] == player) or \\\n",
    "        (board[4] ==  board[5] ==  board[6] == player) or \\\n",
    "        (board[1] ==  board[2] ==  board[3] == player) or \\\n",
    "        (board[7] ==  board[4] ==  board[1] == player) or \\\n",
    "        (board[8] ==  board[5] ==  board[2] == player) or \\\n",
    "        (board[9] ==  board[6] ==  board[3] == player) or \\\n",
    "        (board[1] ==  board[5] ==  board[9] == player) or \\\n",
    "        (board[3] ==  board[5] ==  board[7] == player):\n",
    "        return True\n",
    "    else:\n",
    "        return False\n"
   ]
  },
  {
   "cell_type": "markdown",
   "metadata": {},
   "source": [
    "Defina a função para verificar se a placa já está cheia no caso de uma gravata. (Isso é direto com nosso quadro armazenado como uma lista)\n",
    "Basta lembrar que o índice 0 está sempre vazio."
   ]
  },
  {
   "cell_type": "code",
   "execution_count": 8,
   "metadata": {
    "collapsed": true
   },
   "outputs": [],
   "source": [
    "def full_board_check(board):\n",
    "    ''' Função para verificar se os espaços em branco restantes estão no tabuleiro '''\n",
    "    if \" \" in board[1:]:\n",
    "        return False\n",
    "    else:\n",
    "        return True"
   ]
  },
  {
   "cell_type": "markdown",
   "metadata": {},
   "source": [
    "Agora, defina uma função para obter entrada do jogador e faça várias verificações nela."
   ]
  },
  {
   "cell_type": "code",
   "execution_count": 6,
   "metadata": {
    "collapsed": true
   },
   "outputs": [],
   "source": [
    "def ask_player(mark):\n",
    "    ''' Asks player where to place X or O mark, checks validity '''\n",
    "    global board\n",
    "    req = 'Choose where to place your: ' + mark\n",
    "    while True:\n",
    "        try:\n",
    "            choice = int(raw_input(req))\n",
    "        except ValueError:\n",
    "            print(\"Sorry, please input a number between 1-9.\")\n",
    "            continue\n",
    "\n",
    "        if choice not in range(1,10):\n",
    "            print(\"Sorry, please input a number between 1-9.\")\n",
    "            continue\n",
    "\n",
    "        if board[choice] == \" \":\n",
    "            board[choice] = mark\n",
    "            break\n",
    "        else:\n",
    "            print \"That space isn't empty!\"\n",
    "            continue\n",
    "            \n",
    "    \n",
    "\n",
    "    "
   ]
  },
  {
   "cell_type": "markdown",
   "metadata": {},
   "source": [
    "Agora, tenha uma função que escolha na escolha do jogador (via a função ask_player) e retorna o game_state."
   ]
  },
  {
   "cell_type": "code",
   "execution_count": 7,
   "metadata": {},
   "outputs": [],
   "source": [
    "def player_choice(mark):\n",
    "    global board,game_state,announce\n",
    "    # Defina o anúncio do jogo em branco\n",
    "    announce = ''\n",
    "    # Obter Entrada do Jogador\n",
    "    mark = str(mark)\n",
    "    # Valide a entrada\n",
    "    ask_player(mark)\n",
    "\n",
    "    # Checa por vitória\n",
    "    if win_check(board,mark):\n",
    "        clear_output()\n",
    "        display_board()\n",
    "        announce = mark +\" wins! Congratulations\"\n",
    "        game_state = False\n",
    "    \n",
    "    # Mostra o tabulkeiro\n",
    "    clear_output()\n",
    "    display_board()\n",
    "\n",
    "    # Checa por empate\n",
    "    if full_board_check(board):\n",
    "        announce = \"Tie!\"\n",
    "        game_state = False\n",
    "        \n",
    "    return game_state,announce\n"
   ]
  },
  {
   "cell_type": "markdown",
   "metadata": {},
   "source": [
    "Finally put it all together in a function to play the game."
   ]
  },
  {
   "cell_type": "code",
   "execution_count": 8,
   "metadata": {},
   "outputs": [],
   "source": [
    "def play_game():\n",
    "    reset_board()\n",
    "    global announce\n",
    "    \n",
    "    # Definir marcas\n",
    "    X='X'\n",
    "    O='O'\n",
    "    while True:\n",
    "        # Mostra o tabuleiro\n",
    "        clear_output()\n",
    "        display_board()\n",
    "        \n",
    "        # Vez do jogador 'X'\n",
    "        game_state,announce = player_choice(X)\n",
    "        print announce\n",
    "        if game_state == False:\n",
    "            break\n",
    "            \n",
    "        # Vez do jogador 'O'\n",
    "        game_state,announce = player_choice(O)\n",
    "        print announce\n",
    "        if game_state == False:\n",
    "            break\n",
    "    \n",
    "    # Pergunta por novo jogo\n",
    "    rematch = raw_input('Would you like to play again? y/n')\n",
    "    if rematch == 'y':\n",
    "        play_game()\n",
    "    else:\n",
    "        print \"Thanks for playing!\"\n",
    "    "
   ]
  },
  {
   "cell_type": "markdown",
   "metadata": {},
   "source": [
    "Jogar!"
   ]
  },
  {
   "cell_type": "code",
   "execution_count": 9,
   "metadata": {},
   "outputs": [
    {
     "name": "stdout",
     "output_type": "stream",
     "text": [
      "  O |X |   \n",
      "------------\n",
      "  X |X | O \n",
      "------------\n",
      "  O |X |   \n",
      "X wins! Congratulations\n",
      "Would you like to play again? y/nn\n",
      "Thanks for playing!\n"
     ]
    }
   ],
   "source": [
    "play_game()"
   ]
  }
 ],
 "metadata": {
  "kernelspec": {
   "display_name": "Python 3",
   "language": "python",
   "name": "python3"
  },
  "language_info": {
   "codemirror_mode": {
    "name": "ipython",
    "version": 3
   },
   "file_extension": ".py",
   "mimetype": "text/x-python",
   "name": "python",
   "nbconvert_exporter": "python",
   "pygments_lexer": "ipython3",
   "version": "3.6.1"
  }
 },
 "nbformat": 4,
 "nbformat_minor": 1
}
