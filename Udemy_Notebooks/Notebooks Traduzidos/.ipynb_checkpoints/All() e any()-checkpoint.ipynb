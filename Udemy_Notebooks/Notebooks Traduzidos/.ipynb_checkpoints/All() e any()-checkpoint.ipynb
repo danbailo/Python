{
 "cells": [
  {
   "cell_type": "markdown",
   "metadata": {},
   "source": [
    "# all() e any()"
   ]
  },
  {
   "cell_type": "markdown",
   "metadata": {},
   "source": [
    "all() e any() são funções integradas em Python que nos permitem verificar convenientemente a correspondência booleana em um iterável. all() retornará True se todos os elementos em um iterable forem True. Identico à seguinte função:\n",
    "\n",
    "    def all(iterable):\n",
    "        for element in iterable:\n",
    "            if not element:\n",
    "                return False\n",
    "        return True\n",
    "        \n",
    "any() retornará True se qualquer um dos elementos no iterable for True. É equivalente ao seguinte código:\n",
    "\n",
    "    def any(iterable):\n",
    "        for element in iterable:\n",
    "            if element:\n",
    "                return True\n",
    "        return False\n",
    "        "
   ]
  },
  {
   "cell_type": "markdown",
   "metadata": {},
   "source": [
    "Vejamos alguns exemplos dessas funções. Eles devem ser bastante diretos:"
   ]
  },
  {
   "cell_type": "code",
   "execution_count": 4,
   "metadata": {
    "collapsed": true
   },
   "outputs": [],
   "source": [
    "lst = [True,True,False,True]"
   ]
  },
  {
   "cell_type": "code",
   "execution_count": 5,
   "metadata": {},
   "outputs": [
    {
     "data": {
      "text/plain": [
       "False"
      ]
     },
     "execution_count": 5,
     "metadata": {},
     "output_type": "execute_result"
    }
   ],
   "source": [
    "all(lst)"
   ]
  },
  {
   "cell_type": "markdown",
   "metadata": {},
   "source": [
    "Retorna False porque nem todos os elementos são Trues."
   ]
  },
  {
   "cell_type": "code",
   "execution_count": 6,
   "metadata": {},
   "outputs": [
    {
     "data": {
      "text/plain": [
       "True"
      ]
     },
     "execution_count": 6,
     "metadata": {},
     "output_type": "execute_result"
    }
   ],
   "source": [
    "any(lst)"
   ]
  },
  {
   "cell_type": "markdown",
   "metadata": {},
   "source": [
    "Retorna True porque pelo menos um dos elementos da lista é True."
   ]
  }
 ],
 "metadata": {
  "kernelspec": {
   "display_name": "Python 3",
   "language": "python",
   "name": "python3"
  },
  "language_info": {
   "codemirror_mode": {
    "name": "ipython",
    "version": 3
   },
   "file_extension": ".py",
   "mimetype": "text/x-python",
   "name": "python",
   "nbconvert_exporter": "python",
   "pygments_lexer": "ipython3",
   "version": "3.5.3"
  }
 },
 "nbformat": 4,
 "nbformat_minor": 1
}
