{
 "cells": [
  {
   "cell_type": "markdown",
   "metadata": {},
   "source": [
    "#Milestone Project 2 - Blackjack Game\n",
    "In this milestone project you will be creating a Complete BlackJack Card Game in Python.\n",
    "\n",
    "Here are the requirements:\n",
    "\n",
    "* You need to create a simple text-based [BlackJack](https://en.wikipedia.org/wiki/Blackjack) game\n",
    "* The game needs to have one player versus an automated dealer.\n",
    "* The player can stand or hit.\n",
    "* The player must be able to pick their betting amount.\n",
    "* You need to keep track of the players total money.\n",
    "* You need to alert the player of wins, losses, or busts, etc...\n",
    "\n",
    "And most importantly:\n",
    "\n",
    "* **You must use OOP and classes in some portion of your game. You can not just use functions in your game. Use classes to help you define the Deck and the Player's hand. There are many right ways to do this, so explore it well!**\n",
    "\n",
    "\n",
    "Feel free to expand this game-try including multiple players. Try adding in Double-Down and card splits! Remember to you are free to use any resources you want and as always:\n",
    "\n",
    "# HAVE FUN!\n",
    "\n",
    "\n",
    "# Projeto 2 - Blackjack!\n",
    "Neste projeto você estará criando um jogo de cartas BlackJack completo em Python.\n",
    "\n",
    "Aqui estão os requisitos:\n",
    "\n",
    "* Você precisa criar um jogo [BlackJack](https://en.wikipedia.org/wiki/Blackjack) baseado em texto.\n",
    "* O jogo precisa ter um jogador versus um dealer automatizado.\n",
    "* O jogador pode esperar ou hitar\".\n",
    "* O jogador deve poder escolher o seu valor de apostas.\n",
    "* Você precisa acompanhar o dinheiro total dos jogadores.\n",
    "* Você precisa alertar o jogador de vitórias, perdas ou bustos, etc ...\n",
    "\n",
    "E o mais importante:\n",
    "\n",
    "* ** Você deve usar OOP e classes em alguma parte do seu jogo. Você não pode usar funções no seu jogo. Use aulas para ajudá-lo a definir o Deck e a mão do jogador. Existem muitas formas corretas de fazer isso, então explore-o bem! **\n",
    "\n",
    "\n",
    "Não hesite em expandir este jogo, tente inclusive vários jogadores. Tente adicionar em Double-Down e splits de cartões! Lembre-se de que você é livre para usar os recursos que você deseja e como sempre:\n",
    "\n",
    "# DIVERTA-SE!"
   ]
  }
 ],
 "metadata": {
  "kernelspec": {
   "display_name": "Python 3",
   "language": "python",
   "name": "python3"
  },
  "language_info": {
   "codemirror_mode": {
    "name": "ipython",
    "version": 3
   },
   "file_extension": ".py",
   "mimetype": "text/x-python",
   "name": "python",
   "nbconvert_exporter": "python",
   "pygments_lexer": "ipython3",
   "version": "3.6.1"
  }
 },
 "nbformat": 4,
 "nbformat_minor": 1
}
