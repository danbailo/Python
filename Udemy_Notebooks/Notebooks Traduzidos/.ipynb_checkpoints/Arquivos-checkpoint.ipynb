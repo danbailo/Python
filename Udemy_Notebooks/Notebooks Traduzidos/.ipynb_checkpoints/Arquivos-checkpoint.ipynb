{
 "cells": [
  {
   "cell_type": "markdown",
   "metadata": {},
   "source": [
    "# Arquivos\n",
    "\n",
    "O Python usa objetos de arquivo para interagir com arquivos externos em seu computador. Esses objetos de arquivo podem ser qualquer tipo de arquivo que você tenha em seu computador, seja um arquivo de áudio, um arquivo de texto, e-mails, documentos do Excel, etc. Nota: provavelmente você precisará instalar certas bibliotecas ou módulos para interagir com esses vários tipos de arquivo, mas eles estão facilmente disponíveis. (Vamos abordar o download de módulos mais tarde no curso).\n",
    "\n",
    "O Python possui uma função aberta aberta que nos permite abrir e utilizar métodos básicos com arquivos. Primeiro, precisamos de um arquivo. Usaremos uma mágica do iPython para criar um arquivo de texto!\n",
    "\n",
    "##  Escrevendo um arquivo com iPython"
   ]
  },
  {
   "cell_type": "code",
   "execution_count": 1,
   "metadata": {},
   "outputs": [
    {
     "name": "stdout",
     "output_type": "stream",
     "text": [
      "Writing test.txt\n"
     ]
    }
   ],
   "source": [
    "%%writefile test.txt\n",
    "Hello, this is a quick test file"
   ]
  },
  {
   "cell_type": "markdown",
   "metadata": {},
   "source": [
    "##  Abrindo um arquivo com Python\n",
    "\n",
    "Podemos abrir um arquivo com a função open(). A função open também possui argumentos (também chamados de parâmetros). Vamos ver como isso é usado:"
   ]
  },
  {
   "cell_type": "code",
   "execution_count": 14,
   "metadata": {
    "collapsed": true
   },
   "outputs": [],
   "source": [
    "# Abre um arquivo txt já existente\n",
    "my_file = open('test.txt')"
   ]
  },
  {
   "cell_type": "code",
   "execution_count": 15,
   "metadata": {},
   "outputs": [
    {
     "data": {
      "text/plain": [
       "'Hello, this is a quick test file'"
      ]
     },
     "execution_count": 15,
     "metadata": {},
     "output_type": "execute_result"
    }
   ],
   "source": [
    "# Agora podemos ler o arquivo\n",
    "my_file.read()"
   ]
  },
  {
   "cell_type": "code",
   "execution_count": 16,
   "metadata": {},
   "outputs": [
    {
     "data": {
      "text/plain": [
       "''"
      ]
     },
     "execution_count": 16,
     "metadata": {},
     "output_type": "execute_result"
    }
   ],
   "source": [
    "# Mas o que acontece se tentarmos lê-lo novamente?\n",
    "my_file.read()"
   ]
  },
  {
   "cell_type": "markdown",
   "metadata": {},
   "source": [
    "Isso acontece porque você pode imaginar que o \"cursor\" de leitura esteja no final do arquivo depois de ter lido. Portanto, não há nada a ler. Podemos redefinir o \"cursor\" assim:"
   ]
  },
  {
   "cell_type": "code",
   "execution_count": 42,
   "metadata": {},
   "outputs": [],
   "source": [
    "# Procure o início do arquivo (índice 0)\n",
    "my_file.seek(0)"
   ]
  },
  {
   "cell_type": "code",
   "execution_count": 19,
   "metadata": {},
   "outputs": [
    {
     "data": {
      "text/plain": [
       "'Hello, this is a quick test file'"
      ]
     },
     "execution_count": 19,
     "metadata": {},
     "output_type": "execute_result"
    }
   ],
   "source": [
    "# Lê novamente\n",
    "my_file.read()"
   ]
  },
  {
   "cell_type": "markdown",
   "metadata": {},
   "source": [
    "Para não ter que reiniciar todas as vezes, também podemos usar o método readlines. Tenha cuidado com arquivos grandes, já que tudo será mantido na memória. Nós aprenderemos como iterar sobre arquivos grandes mais tarde no curso."
   ]
  },
  {
   "cell_type": "code",
   "execution_count": 26,
   "metadata": {},
   "outputs": [
    {
     "data": {
      "text/plain": [
       "['Hello, this is a quick test file']"
      ]
     },
     "execution_count": 26,
     "metadata": {},
     "output_type": "execute_result"
    }
   ],
   "source": [
    "# Readlines retorna uma lista das linhas no arquivo.\n",
    "my_file.readlines()"
   ]
  },
  {
   "cell_type": "markdown",
   "metadata": {},
   "source": [
    "## Escrevendo um arquivo\n",
    "\n",
    "Por padrão, usando a função open() só nos permitirá ler o arquivo, precisamos passar o argumento 'w' para escrever sobre o arquivo. Por exemplo:"
   ]
  },
  {
   "cell_type": "code",
   "execution_count": 39,
   "metadata": {
    "collapsed": true
   },
   "outputs": [],
   "source": [
    "# Adiciona um segundo argumento à função, 'w', que significa escrita\n",
    "my_file = open('test.txt','w+')"
   ]
  },
  {
   "cell_type": "code",
   "execution_count": 40,
   "metadata": {
    "collapsed": true
   },
   "outputs": [],
   "source": [
    "# Escreve no arquivo\n",
    "my_file.write('This is a new line')"
   ]
  },
  {
   "cell_type": "code",
   "execution_count": 43,
   "metadata": {},
   "outputs": [
    {
     "data": {
      "text/plain": [
       "'This is a new line'"
      ]
     },
     "execution_count": 43,
     "metadata": {},
     "output_type": "execute_result"
    }
   ],
   "source": [
    "# Lê o arquivo\n",
    "my_file.read()"
   ]
  },
  {
   "cell_type": "markdown",
   "metadata": {},
   "source": [
    "# Iterando através de um arquivo\n",
    "\n",
    "Vamos dar uma pequena olhada sobre como iterar através do arquivo. Primeiro vamos criar um novo arquivo de texto:"
   ]
  },
  {
   "cell_type": "code",
   "execution_count": 44,
   "metadata": {},
   "outputs": [
    {
     "name": "stdout",
     "output_type": "stream",
     "text": [
      "Overwriting test.txt\n"
     ]
    }
   ],
   "source": [
    "%%writefile test.txt\n",
    "First Line\n",
    "Second Line"
   ]
  },
  {
   "cell_type": "markdown",
   "metadata": {},
   "source": [
    "Agora podemos usar um pouco de fluxo para dizer o programa para através de cada linha do arquivo e fazer algo:"
   ]
  },
  {
   "cell_type": "code",
   "execution_count": 45,
   "metadata": {},
   "outputs": [
    {
     "name": "stdout",
     "output_type": "stream",
     "text": [
      "First Line\n",
      "\n",
      "Second Line\n"
     ]
    }
   ],
   "source": [
    "for line in open('test.txt'):\n",
    "    print(line)"
   ]
  },
  {
   "cell_type": "markdown",
   "metadata": {},
   "source": [
    "Não se preocupe em entender completamente isso ainda, pois os laços serão abordados em breve. Mas vamos quebrar o que fizemos acima. Nós dissemos que para cada linha neste arquivo de texto, vá em frente e imprima essa linha. É importante notar algumas coisas aqui:\n",
    "\n",
    "     1.) Poderíamos ter chamado o objeto 'linha' qualquer coisa (veja o exemplo abaixo).\n",
    "     2.) Ao não chamar .read() no arquivo, o arquivo de texto inteiro não foi armazenado na memória.\n",
    "     3.) Observe o recuo na segunda linha para impressão. Este espaço em branco é necessário em Python.\n",
    "\n",
    "Aprenderemos muito mais sobre isso mais tarde."
   ]
  },
  {
   "cell_type": "code",
   "execution_count": 46,
   "metadata": {},
   "outputs": [
    {
     "name": "stdout",
     "output_type": "stream",
     "text": [
      "First Line\n",
      "\n",
      "Second Line\n"
     ]
    }
   ],
   "source": [
    "for asdf in open('test.txt'):\n",
    "    print(asdf)"
   ]
  },
  {
   "cell_type": "code",
   "execution_count": null,
   "metadata": {
    "collapsed": true
   },
   "outputs": [],
   "source": []
  }
 ],
 "metadata": {
  "kernelspec": {
   "display_name": "Python 3",
   "language": "python",
   "name": "python3"
  },
  "language_info": {
   "codemirror_mode": {
    "name": "ipython",
    "version": 3
   },
   "file_extension": ".py",
   "mimetype": "text/x-python",
   "name": "python",
   "nbconvert_exporter": "python",
   "pygments_lexer": "ipython3",
   "version": "3.6.3"
  }
 },
 "nbformat": 4,
 "nbformat_minor": 1
}
