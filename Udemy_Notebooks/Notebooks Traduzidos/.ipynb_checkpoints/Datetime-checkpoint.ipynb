{
 "cells": [
  {
   "cell_type": "markdown",
   "metadata": {},
   "source": [
    "# Datetime\n",
    "\n",
    "O Python possui o módulo de datetime para ajudar a lidar com timestamps em seu código. Os valores de tempo são representados com a classe de time. Time têm atributos por hora, minuto, segundo e microssegundo. Eles também podem incluir informações de fuso horário. Os argumentos para inicializar uma instância de time são opcionais, mas é improvável que o padrão de 0 seja o que você deseja.\n",
    "\n",
    "\n",
    "## Time\n",
    "Vamos dar uma olhada em como podemos extrair informações de tempo do módulo datetime. Podemos criar um timestamp especificando datetime.time(hour, minute, second, microsecond)"
   ]
  },
  {
   "cell_type": "code",
   "execution_count": 1,
   "metadata": {},
   "outputs": [
    {
     "name": "stdout",
     "output_type": "stream",
     "text": [
      "04:20:01\n",
      "hour  : 4\n",
      "minute: 20\n",
      "second: 1\n",
      "microsecond: 0\n",
      "tzinfo: None\n"
     ]
    }
   ],
   "source": [
    "import datetime\n",
    "\n",
    "t = datetime.time(4, 20, 1)\n",
    "# Vamos mostrar as diferenças entre os componentes\n",
    "\n",
    "print(t)\n",
    "print('hour  :', t.hour)\n",
    "print('minute:', t.minute)\n",
    "print('second:', t.second)\n",
    "print('microsecond:', t.microsecond)\n",
    "print('tzinfo:', t.tzinfo)"
   ]
  },
  {
   "cell_type": "markdown",
   "metadata": {},
   "source": [
    "Nota: Uma instância de tempo apenas mantém valores de tempo e não uma data associada ao tempo.\n",
    "\n",
    "Também podemos verificar os valores mínimos e máximos que uma hora do dia pode ter no módulo:"
   ]
  },
  {
   "cell_type": "code",
   "execution_count": 2,
   "metadata": {},
   "outputs": [
    {
     "name": "stdout",
     "output_type": "stream",
     "text": [
      "Earliest  : 00:00:00\n",
      "Latest    : 23:59:59.999999\n",
      "Resolution: 0:00:00.000001\n"
     ]
    }
   ],
   "source": [
    "print('Earliest  :', datetime.time.min)\n",
    "print('Latest    :', datetime.time.max)\n",
    "print('Resolution:', datetime.time.resolution)"
   ]
  },
  {
   "cell_type": "markdown",
   "metadata": {},
   "source": [
    "The min and max class attributes reflect the valid range of times in a single day."
   ]
  },
  {
   "cell_type": "markdown",
   "metadata": {},
   "source": [
    "## Dates\n",
    "\n",
    "O tempo de data (como você talvez tenha suspeitado) também nos permite trabalhar com timestamps de data. Os valores da data do calendário são representados com a classe de data. As instâncias possuem atributos por ano, mês e dia. É fácil criar uma data que represente a data de hoje usando o método de classe today().\n",
    "\n",
    "Vamos ver alguns exemplos:"
   ]
  },
  {
   "cell_type": "code",
   "execution_count": 3,
   "metadata": {},
   "outputs": [
    {
     "name": "stdout",
     "output_type": "stream",
     "text": [
      "2018-01-31\n",
      "ctime: Wed Jan 31 00:00:00 2018\n",
      "tuple: time.struct_time(tm_year=2018, tm_mon=1, tm_mday=31, tm_hour=0, tm_min=0, tm_sec=0, tm_wday=2, tm_yday=31, tm_isdst=-1)\n",
      "ordinal: 736725\n",
      "Year: 2018\n",
      "Mon : 1\n",
      "Day : 31\n"
     ]
    }
   ],
   "source": [
    "today = datetime.date.today()\n",
    "print(today)\n",
    "print('ctime:', today.ctime())\n",
    "print('tuple:', today.timetuple())\n",
    "print('ordinal:', today.toordinal())\n",
    "print('Year:', today.year)\n",
    "print('Mon :', today.month)\n",
    "print('Day :', today.day)"
   ]
  },
  {
   "cell_type": "markdown",
   "metadata": {},
   "source": [
    "Assim como o tempo, o intervalo de valores de data suportados pode ser determinado usando os atributos min e max."
   ]
  },
  {
   "cell_type": "code",
   "execution_count": 4,
   "metadata": {},
   "outputs": [
    {
     "name": "stdout",
     "output_type": "stream",
     "text": [
      "Earliest  : 0001-01-01\n",
      "Latest    : 9999-12-31\n",
      "Resolution: 1 day, 0:00:00\n"
     ]
    }
   ],
   "source": [
    "print('Earliest  :', datetime.date.min)\n",
    "print('Latest    :', datetime.date.max)\n",
    "print('Resolution:', datetime.date.resolution)"
   ]
  },
  {
   "cell_type": "markdown",
   "metadata": {},
   "source": [
    "Outra maneira de criar novas instâncias de data usa o método replace () de uma data existente. Por exemplo, você pode mudar o ano, deixando o dia e o mês sozinhos."
   ]
  },
  {
   "cell_type": "code",
   "execution_count": 5,
   "metadata": {},
   "outputs": [
    {
     "name": "stdout",
     "output_type": "stream",
     "text": [
      "d1: 2015-03-11\n",
      "d2: 1990-03-11\n"
     ]
    }
   ],
   "source": [
    "d1 = datetime.date(2015, 3, 11)\n",
    "print('d1:', d1)\n",
    "\n",
    "d2 = d1.replace(year=1990)\n",
    "print('d2:', d2)"
   ]
  },
  {
   "cell_type": "markdown",
   "metadata": {},
   "source": [
    "# Operações aritméticas\n",
    "Podemos realizar operações aritmética em objetos de data para verificar diferenças horárias. Por exemplo:"
   ]
  },
  {
   "cell_type": "code",
   "execution_count": 9,
   "metadata": {},
   "outputs": [
    {
     "data": {
      "text/plain": [
       "datetime.date(2015, 3, 11)"
      ]
     },
     "execution_count": 9,
     "metadata": {},
     "output_type": "execute_result"
    }
   ],
   "source": [
    "d1"
   ]
  },
  {
   "cell_type": "code",
   "execution_count": 10,
   "metadata": {},
   "outputs": [
    {
     "data": {
      "text/plain": [
       "datetime.date(1990, 3, 11)"
      ]
     },
     "execution_count": 10,
     "metadata": {},
     "output_type": "execute_result"
    }
   ],
   "source": [
    "d2"
   ]
  },
  {
   "cell_type": "code",
   "execution_count": 11,
   "metadata": {},
   "outputs": [
    {
     "data": {
      "text/plain": [
       "datetime.timedelta(9131)"
      ]
     },
     "execution_count": 11,
     "metadata": {},
     "output_type": "execute_result"
    }
   ],
   "source": [
    "d1-d2"
   ]
  },
  {
   "cell_type": "markdown",
   "metadata": {},
   "source": [
    "Isso nos dá a diferença em dias entre as duas datas. Você pode usar o método timedelta para especificar várias unidades de horas (dia, minutos, horas, etc.)\n",
    "\n",
    "Ótimo! Agora você deve ter uma compreensão básica sobre como usar o Datetime com o Python para trabalhar com timestamps em seu código!"
   ]
  },
  {
   "cell_type": "code",
   "execution_count": null,
   "metadata": {
    "collapsed": true
   },
   "outputs": [],
   "source": []
  }
 ],
 "metadata": {
  "kernelspec": {
   "display_name": "Python 3",
   "language": "python",
   "name": "python3"
  },
  "language_info": {
   "codemirror_mode": {
    "name": "ipython",
    "version": 3
   },
   "file_extension": ".py",
   "mimetype": "text/x-python",
   "name": "python",
   "nbconvert_exporter": "python",
   "pygments_lexer": "ipython3",
   "version": "3.5.3"
  }
 },
 "nbformat": 4,
 "nbformat_minor": 1
}
