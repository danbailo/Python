{
 "cells": [
  {
   "cell_type": "markdown",
   "metadata": {},
   "source": [
    "\n",
    "\n",
    "\n",
    "# Primeiro projeto\n",
    "## Parabéns por ter chegado ao seu primeiro projeto!\n",
    "Você já aprendeu uma tonelada de coisas e está pronto para trabalhar em um projeto real.\n",
    "\n",
    "Sua tarefa: Criar um jogo da velha. Você é livre para usar qualquer IDE que preferir.\n",
    "\n",
    "Aqui estão os requisitos:\n",
    "\n",
    "* 2 jogadores devem poder jogar o jogo (ambos sentados no mesmo computador)\n",
    "* O quadro deve ser impresso sempre que um jogador faz uma jogada\n",
    "* Você deve ser capaz de aceitar a entrada da posição do jogador e, em seguida, colocar um símbolo na placa\n",
    "\n",
    "Sinta-se livre para usar o Google para ajudá-lo a descobrir algo (mas não pesquise \"Tic Tac Toe em Python\", então você não aprenderá nada!) Tenha em mente que este projeto pode levar entre várias horas até vários dias.\n",
    "\n",
    "Existem 4 cadernos Jupyter relacionados a esta tarefa:\n",
    "\n",
    "* Este Caderno de Atribuição\n",
    "* Um caderno de etapas passo a passo\"\n",
    "* Um notebook da solução\n",
    "* Um Notebook da \"Solução Avançada\"\n",
    "\n",
    "Eu encorajo você a tentar apenas iniciar o projeto por conta própria sem referenciar nenhum dos notebooks. Se você ficar preso, confira a próxima palestra, que é uma leitura de texto com sugestões e etapas úteis. Se você ainda está preso depois disso, então confira o notebook passo a passo, que separa o projeto em etapas para você resolver. Ainda preso? Em seguida, confira o vídeo da solução para obter mais ajuda na aproximação do projeto!"
   ]
  },
  {
   "cell_type": "markdown",
   "metadata": {},
   "source": [
    "Lembre-se, é um livro totalmente aberto, então aproveite seu tempo, faça uma pequena pesquisa e lembre-se:\n",
    "\n",
    "## DIVERTA-SE!"
   ]
  }
 ],
 "metadata": {
  "kernelspec": {
   "display_name": "Python 3",
   "language": "python",
   "name": "python3"
  },
  "language_info": {
   "codemirror_mode": {
    "name": "ipython",
    "version": 3
   },
   "file_extension": ".py",
   "mimetype": "text/x-python",
   "name": "python",
   "nbconvert_exporter": "python",
   "pygments_lexer": "ipython3",
   "version": "3.6.1"
  }
 },
 "nbformat": 4,
 "nbformat_minor": 1
}
