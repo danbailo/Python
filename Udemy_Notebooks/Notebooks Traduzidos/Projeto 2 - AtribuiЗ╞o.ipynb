{
 "cells": [
  {
   "cell_type": "markdown",
   "metadata": {},
   "source": [
    "# Projeto 2 - Blackjack!\n",
    "Neste projeto você estará criando um jogo de cartas BlackJack completo em Python.\n",
    "\n",
    "Aqui estão os requisitos:\n",
    "\n",
    "* Você precisa criar um jogo [BlackJack](https://en.wikipedia.org/wiki/Blackjack) baseado em texto.\n",
    "* O jogo precisa ter um jogador versus um dealer automatizado.\n",
    "* O jogador pode esperar ou pedir mais cartas.\n",
    "* O jogador deve poder escolher o seu valor de apostas.\n",
    "* Você precisa acompanhar o dinheiro total dos jogadores.\n",
    "* Você precisa alertar o jogador de vitórias, perdas, etc ...\n",
    "\n",
    "E o mais importante:\n",
    "\n",
    "* ** Você deve usar POO e classes em alguma parte do seu jogo. Você não pode apenas usar funções no seu jogo. Use aulas para ajudá-lo a definir o baralho e a mão do jogador. Existem muitas formas corretas de fazer isso, então explore-o bem! **\n",
    "\n",
    "\n",
    "Não hesite em expandir este jogo, tente inclusive vários jogadores. Tente adicionar em Double-Down e divisão de cartas! Lembre-se de que você é livre para usar os recursos que você deseja e como sempre:\n",
    "\n",
    "# DIVERTA-SE!"
   ]
  },
  {
   "cell_type": "code",
   "execution_count": null,
   "metadata": {
    "collapsed": true
   },
   "outputs": [],
   "source": []
  }
 ],
 "metadata": {
  "kernelspec": {
   "display_name": "Python 3",
   "language": "python",
   "name": "python3"
  },
  "language_info": {
   "codemirror_mode": {
    "name": "ipython",
    "version": 3
   },
   "file_extension": ".py",
   "mimetype": "text/x-python",
   "name": "python",
   "nbconvert_exporter": "python",
   "pygments_lexer": "ipython3",
   "version": "3.6.1"
  }
 },
 "nbformat": 4,
 "nbformat_minor": 1
}
