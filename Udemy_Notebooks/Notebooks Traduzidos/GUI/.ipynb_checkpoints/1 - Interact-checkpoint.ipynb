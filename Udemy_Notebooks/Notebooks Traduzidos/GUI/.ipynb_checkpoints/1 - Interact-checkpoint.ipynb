{
 "cells": [
  {
   "cell_type": "markdown",
   "metadata": {},
   "source": [
    "# Usando o Interact\n",
    "\n",
    "Nesta palestra, começaremos a aprender sobre a criação de uma GUI de painel com widgets iPython!"
   ]
  },
  {
   "cell_type": "markdown",
   "metadata": {},
   "source": [
    "A função `interact (ipywidgets.interact)` cria automaticamente controles de interface de usuário (UI) para explorar códigos e dados de forma interativa. É a maneira mais fácil de começar a usar os widgets da IPython."
   ]
  },
  {
   "cell_type": "code",
   "execution_count": 1,
   "metadata": {},
   "outputs": [],
   "source": [
    "# Comece com algumas importações!\n",
    "\n",
    "from __future__ import print_function\n",
    "from ipywidgets import interact, interactive, fixed\n",
    "import ipywidgets as widgets"
   ]
  },
  {
   "cell_type": "markdown",
   "metadata": {},
   "source": [
    "<div class=\"alert alert-success\">\n",
    "Observe! Os widgets neste notebook não aparecerão nas renderizações do NbViewer ou do GitHub. Para visualizar os widgets e interagir com eles, você precisará baixar este notebook e executá-lo com um servidor Jupyter Notebook.\n",
    "</div>"
   ]
  },
  {
   "cell_type": "markdown",
   "metadata": {},
   "source": [
    "## Interact básico"
   ]
  },
  {
   "cell_type": "markdown",
   "metadata": {},
   "source": [
    "No nível mais básico, \"interact\" gera automaticamente controles de UI para argumentos de função e, em seguida, chama a função com esses argumentos quando você manipula os controles de forma interativa. Para usar `interact ', você precisa definir uma função que você deseja explorar. Aqui está uma função que imprime seu único argumento `x`."
   ]
  },
  {
   "cell_type": "code",
   "execution_count": 2,
   "metadata": {},
   "outputs": [],
   "source": [
    "# Função básica\n",
    "def f(x):\n",
    "    return x"
   ]
  },
  {
   "cell_type": "markdown",
   "metadata": {},
   "source": [
    "Quando você passa essa função como o primeiro argumento para \"interact\" junto com um argumento de palavra-chave inteira (`x = 10`), um controle deslizante é gerado e vinculado ao parâmetro da função."
   ]
  },
  {
   "cell_type": "code",
   "execution_count": 3,
   "metadata": {},
   "outputs": [
    {
     "data": {
      "application/vnd.jupyter.widget-view+json": {
       "model_id": "f5aa7b7c21824ae086202d3e987c7d51"
      }
     },
     "metadata": {},
     "output_type": "display_data"
    }
   ],
   "source": [
    "# Gera um slider\n",
    "interact(f, x=10,);"
   ]
  },
  {
   "cell_type": "markdown",
   "metadata": {},
   "source": [
    "Quando você move o controle deslizante, a função é chamada, que imprime o valor atual de `x`.\n",
    "\n",
    "Se você passar `True` ou` False`, `interact` irá gerar uma caixa de seleção:"
   ]
  },
  {
   "cell_type": "code",
   "execution_count": 4,
   "metadata": {},
   "outputs": [
    {
     "data": {
      "application/vnd.jupyter.widget-view+json": {
       "model_id": "42dec44b4cb34319a873d147716eeb76"
      }
     },
     "metadata": {},
     "output_type": "display_data"
    }
   ],
   "source": [
    "# Booleans geram caixas de verificação\n",
    "interact(f, x=True);"
   ]
  },
  {
   "cell_type": "markdown",
   "metadata": {},
   "source": [
    "Se você passar uma seqüência de caracteres, `interact` irá gerar uma área de texto."
   ]
  },
  {
   "cell_type": "code",
   "execution_count": 5,
   "metadata": {},
   "outputs": [
    {
     "data": {
      "application/vnd.jupyter.widget-view+json": {
       "model_id": "2a01574dd7f34dd790bf238c04b4628c"
      }
     },
     "metadata": {},
     "output_type": "display_data"
    }
   ],
   "source": [
    "# Strings geram áreas de texto\n",
    "interact(f, x='Hi there!');"
   ]
  },
  {
   "cell_type": "markdown",
   "metadata": {},
   "source": [
    "O `interact` também pode ser usado como decorador. Isso permite que você defina uma função e interaja com ela de uma única vez. Como o exemplo à seguir mostra, `interact` também funciona com funções que possuem múltiplos argumentos."
   ]
  },
  {
   "cell_type": "code",
   "execution_count": 6,
   "metadata": {},
   "outputs": [
    {
     "data": {
      "application/vnd.jupyter.widget-view+json": {
       "model_id": "0e6b2051135347099d6f477d2299a2e3"
      }
     },
     "metadata": {},
     "output_type": "display_data"
    }
   ],
   "source": [
    "# Using a decorator!\n",
    "@interact(x=True, y=1.0)\n",
    "def g(x, y):\n",
    "    return (x, y)"
   ]
  },
  {
   "cell_type": "markdown",
   "metadata": {},
   "source": [
    "## Fixando argumentos usando `fixed`"
   ]
  },
  {
   "cell_type": "markdown",
   "metadata": {},
   "source": [
    "Há momentos em que você pode querer explorar uma função usando `interact`, mas fixar um ou mais de seus argumentos para valores específicos. Isso pode ser realizado envolvendo valores com a função 'fixed'."
   ]
  },
  {
   "cell_type": "code",
   "execution_count": 7,
   "metadata": {},
   "outputs": [],
   "source": [
    "# Mais uma vez, uma função simples\n",
    "def h(p, q):\n",
    "    return (p, q)"
   ]
  },
  {
   "cell_type": "markdown",
   "metadata": {},
   "source": [
    "Quando chamamos `interact`, passamos` fixed(20) `para q para mantê-lo fixo em um valor de` 20`."
   ]
  },
  {
   "cell_type": "code",
   "execution_count": 8,
   "metadata": {},
   "outputs": [
    {
     "data": {
      "application/vnd.jupyter.widget-view+json": {
       "model_id": "30c7ff633aeb42bc91c20b166da8f2b5"
      }
     },
     "metadata": {},
     "output_type": "display_data"
    }
   ],
   "source": [
    "interact(h, p=5, q=fixed(20));"
   ]
  },
  {
   "cell_type": "markdown",
   "metadata": {},
   "source": [
    "Observe que um controle deslizante é produzido apenas para `p` como o valor de` q` é fixo."
   ]
  },
  {
   "cell_type": "markdown",
   "metadata": {},
   "source": [
    "## Widget abreviadas"
   ]
  },
  {
   "cell_type": "markdown",
   "metadata": {},
   "source": [
    "Quando você passa um argumento como número inteiro de `10` (` x = 10`) para o `interact`, ele gera um controle deslizante de valor inteiro com um intervalo de $[-10,+3\\times10]$. Neste caso, `10` é uma * abreviatura * para um widget de slider real:\n",
    "\n",
    "```python\n",
    "IntSlider(min=-10,max=30,step=1,value=10)\n",
    "```\n",
    "\n",
    "Na verdade, podemos obter o mesmo resultado se passarmos o `IntSlider` como o argumento palavra-chave para` x`:"
   ]
  },
  {
   "cell_type": "code",
   "execution_count": 9,
   "metadata": {},
   "outputs": [
    {
     "data": {
      "application/vnd.jupyter.widget-view+json": {
       "model_id": "bf85601d25c94397adb3f85f04ec7e43"
      }
     },
     "metadata": {},
     "output_type": "display_data"
    }
   ],
   "source": [
    "#Pode chamar o IntSlider para se tornar mais específico\n",
    "interact(f, x=widgets.IntSlider(min=-10,max=30,step=1,value=10));"
   ]
  },
  {
   "cell_type": "markdown",
   "metadata": {},
   "source": [
    "Este exemplo esclarece como o \"interact\" processa seus argumentos:\n",
    "\n",
    "1. Se o argumento da palavra-chave for uma instância `Widget` com um atributo` value`, esse widget será usado. Qualquer widget com um atributo `value` pode ser usado, mesmo personalizado.\n",
    "2. Caso contrário, o valor é tratado como uma * abreviação de widget * que é convertida em um widget antes de ser usada.\n",
    "\n",
    "A tabela a seguir apresenta uma visão geral das abreviaturas de widgets diferentes:\n",
    "\n",
    "<table class=\"table table-condensed table-bordered\">\n",
    "  <tr><td><strong>Argumento</strong></td><td><strong>Widget</strong></td></tr>  \n",
    "  <tr><td>`True` ou `False`</td><td>Checkbox</td></tr>  \n",
    "  <tr><td>`'Hi there'`</td><td>Text</td></tr>\n",
    "  <tr><td>`value` ou `(min,max)` ou `(min,max,step)` se números inteiros forem passados</td><td>IntSlider</td></tr>\n",
    "  <tr><td>`value` or `(min,max)` or `(min,max,step)` se floats forem passados</td><td>FloatSlider</td></tr>\n",
    "  <tr><td>`('orange','apple')` ou `{'one':1,'two':2}`</td><td>Dropdown</td></tr>\n",
    "</table>"
   ]
  },
  {
   "cell_type": "markdown",
   "metadata": {},
   "source": [
    "Você viu como a caixa de seleção e os widgets da área de texto funcionam acima. Aqui, são fornecidos mais detalhes sobre as diferentes abreviaturas para sliders e drop-downs.\n",
    "\n",
    "Se uma 2-tupla de inteiros for passada `(min, max)`, um controle deslizante com valor inteiro é produzido com os valores mínimo e máximo (inclusive). Nesse caso, o tamanho padrão do passo 1 é usado."
   ]
  },
  {
   "cell_type": "code",
   "execution_count": 10,
   "metadata": {},
   "outputs": [
    {
     "data": {
      "application/vnd.jupyter.widget-view+json": {
       "model_id": "b7a20329952e4cb7934750004b8f694e"
      }
     },
     "metadata": {},
     "output_type": "display_data"
    }
   ],
   "source": [
    "# Min, Max slider com Tuples\n",
    "interact(f, x=(0,4));"
   ]
  },
  {
   "cell_type": "markdown",
   "metadata": {},
   "source": [
    "Se uma tupla de 3 números inteiros for passada `(min, max, step)`, o tamanho da etapa também pode ser configurado."
   ]
  },
  {
   "cell_type": "code",
   "execution_count": 11,
   "metadata": {},
   "outputs": [
    {
     "data": {
      "application/vnd.jupyter.widget-view+json": {
       "model_id": "362d53fb171c40ae8e6a3e98655a5631"
      }
     },
     "metadata": {},
     "output_type": "display_data"
    }
   ],
   "source": [
    "# (min, max, step)\n",
    "interact(f, x=(0,8,2));"
   ]
  },
  {
   "cell_type": "markdown",
   "metadata": {},
   "source": [
    "Um valor ponto-flutuante é produzido se os elementos das tuplas forem floats também. Aqui, o mínimo é `0.0`, o máximo é` 10.0` e o tamanho da etapa é `0.1` (o padrão)."
   ]
  },
  {
   "cell_type": "code",
   "execution_count": 12,
   "metadata": {},
   "outputs": [
    {
     "data": {
      "application/vnd.jupyter.widget-view+json": {
       "model_id": "6751123bef874fefa7588bca8686c78b"
      }
     },
     "metadata": {},
     "output_type": "display_data"
    }
   ],
   "source": [
    "interact(f, x=(0.0,10.0));"
   ]
  },
  {
   "cell_type": "markdown",
   "metadata": {},
   "source": [
    "O tamanho do passo pode ser alterado passando um terceiro elemento na tupla."
   ]
  },
  {
   "cell_type": "code",
   "execution_count": 13,
   "metadata": {},
   "outputs": [
    {
     "data": {
      "application/vnd.jupyter.widget-view+json": {
       "model_id": "c988e3fe57e84957823a2f3d87d45b57"
      }
     },
     "metadata": {},
     "output_type": "display_data"
    }
   ],
   "source": [
    "interact(f, x=(0.0,10.0,0.01));"
   ]
  },
  {
   "cell_type": "markdown",
   "metadata": {},
   "source": [
    "Para os controles deslizantes de número inteiro e flutuante, você pode escolher o valor inicial do widget passando um argumento de palavra-chave padrão para a função Python subjacente. Aqui estabelecemos o valor inicial de um controle deslizante flutuante para `5.5`."
   ]
  },
  {
   "cell_type": "code",
   "execution_count": 14,
   "metadata": {},
   "outputs": [
    {
     "data": {
      "application/vnd.jupyter.widget-view+json": {
       "model_id": "a5fcf8f343884daf98322ac070f0a21a"
      }
     },
     "metadata": {},
     "output_type": "display_data"
    }
   ],
   "source": [
    "@interact(x=(0.0,20.0,0.5))\n",
    "def h(x=5.5):\n",
    "    return x"
   ]
  },
  {
   "cell_type": "markdown",
   "metadata": {},
   "source": [
    "Se você quer um menu suspenso que passa valores não-string para a função Python, você pode passar um dicionário. As chaves no dicionário são usadas para os nomes na UI do menu suspenso e os valores são os argumentos que são passados para a função Python subjacente."
   ]
  },
  {
   "cell_type": "code",
   "execution_count": 16,
   "metadata": {},
   "outputs": [
    {
     "data": {
      "application/vnd.jupyter.widget-view+json": {
       "model_id": "8fbf1ea38c4641c68d4b6d2c4da309ce"
      }
     },
     "metadata": {},
     "output_type": "display_data"
    }
   ],
   "source": [
    "interact(f, x={'one': 10, 'two': 20});"
   ]
  },
  {
   "cell_type": "markdown",
   "metadata": {},
   "source": [
    "## Interactive"
   ]
  },
  {
   "cell_type": "markdown",
   "metadata": {},
   "source": [
    "Além do \"interact\", o IPython fornece outra função, `interactive`, que é útil quando você deseja reutilizar os widgets que são produzidos ou acessar os dados vinculados aos controles de UI."
   ]
  },
  {
   "cell_type": "markdown",
   "metadata": {},
   "source": [
    "Aqui está uma função que retorna a soma de seus dois argumentos."
   ]
  },
  {
   "cell_type": "code",
   "execution_count": 65,
   "metadata": {},
   "outputs": [],
   "source": [
    "def f(a, b):\n",
    "    return a+b"
   ]
  },
  {
   "cell_type": "markdown",
   "metadata": {},
   "source": [
    "Ao contrário de `interact`, `interactive` retorna uma instância' Widget 'ao invés de exibir imediatamente o widget."
   ]
  },
  {
   "cell_type": "code",
   "execution_count": 18,
   "metadata": {},
   "outputs": [],
   "source": [
    "w = interactive(f, a=10, b=20)"
   ]
  },
  {
   "cell_type": "markdown",
   "metadata": {},
   "source": [
    "O widget é um `Box`, que é um recipiente para outros widgets."
   ]
  },
  {
   "cell_type": "code",
   "execution_count": 19,
   "metadata": {},
   "outputs": [
    {
     "data": {
      "text/plain": [
       "ipywidgets.widgets.interaction.interactive"
      ]
     },
     "execution_count": 19,
     "metadata": {},
     "output_type": "execute_result"
    }
   ],
   "source": [
    "type(w)"
   ]
  },
  {
   "cell_type": "markdown",
   "metadata": {},
   "source": [
    "Os filhos do `Box` são dois controles deslizantes de nível inteiro produzidos pelas abreviaturas do widget acima."
   ]
  },
  {
   "cell_type": "code",
   "execution_count": 20,
   "metadata": {},
   "outputs": [
    {
     "data": {
      "text/plain": [
       "(<ipywidgets.widgets.widget_bool.Checkbox at 0x6db53c8>,\n",
       " <ipywidgets.widgets.widget_output.Output at 0x6db5320>)"
      ]
     },
     "execution_count": 20,
     "metadata": {},
     "output_type": "execute_result"
    }
   ],
   "source": [
    "w.children"
   ]
  },
  {
   "cell_type": "markdown",
   "metadata": {},
   "source": [
    "Para exibir os widgets, você pode usar a função `display` do IPython."
   ]
  },
  {
   "cell_type": "code",
   "execution_count": 21,
   "metadata": {},
   "outputs": [
    {
     "data": {
      "application/vnd.jupyter.widget-view+json": {
       "model_id": "05a3e0902f7d49dba55468af9872103c"
      }
     },
     "metadata": {},
     "output_type": "display_data"
    }
   ],
   "source": [
    "from IPython.display import display\n",
    "display(w)"
   ]
  },
  {
   "cell_type": "markdown",
   "metadata": {},
   "source": [
    "Neste ponto, a UI controla o trabalho exatamente como se houvesse se `interact` tivesse sido usado. Você pode manipulá-los de forma interativa e a função será chamada. No entanto, a instância do widget retornada por `interactive` também lhe dá acesso aos argumentos da palavra-chave atual e ao valor de retorno da função subjacente Python.\n",
    "\n",
    "Aqui estão os argumentos da palavra-chave atual. Se você executar novamente esta célula depois de manipular os controles deslizantes, os valores terão mudado."
   ]
  },
  {
   "cell_type": "code",
   "execution_count": 22,
   "metadata": {},
   "outputs": [
    {
     "data": {
      "text/plain": [
       "{'x': True}"
      ]
     },
     "execution_count": 22,
     "metadata": {},
     "output_type": "execute_result"
    }
   ],
   "source": [
    "w.kwargs"
   ]
  },
  {
   "cell_type": "markdown",
   "metadata": {},
   "source": [
    "Aqui está o valor de retorno atual da função."
   ]
  },
  {
   "cell_type": "code",
   "execution_count": 23,
   "metadata": {},
   "outputs": [
    {
     "data": {
      "text/plain": [
       "True"
      ]
     },
     "execution_count": 23,
     "metadata": {},
     "output_type": "execute_result"
    }
   ],
   "source": [
    "w.result"
   ]
  },
  {
   "cell_type": "markdown",
   "metadata": {},
   "source": [
    "# Conclusão\n",
    "\n",
    "Você deve agora ter uma compreensão básica sobre como usar o Interact no Notebooks Jupyter!"
   ]
  }
 ],
 "metadata": {
  "kernelspec": {
   "display_name": "Python 3",
   "language": "python",
   "name": "python3"
  },
  "language_info": {
   "codemirror_mode": {
    "name": "ipython",
    "version": 3
   },
   "file_extension": ".py",
   "mimetype": "text/x-python",
   "name": "python",
   "nbconvert_exporter": "python",
   "pygments_lexer": "ipython3",
   "version": "3.5.3"
  }
 },
 "nbformat": 4,
 "nbformat_minor": 1
}
