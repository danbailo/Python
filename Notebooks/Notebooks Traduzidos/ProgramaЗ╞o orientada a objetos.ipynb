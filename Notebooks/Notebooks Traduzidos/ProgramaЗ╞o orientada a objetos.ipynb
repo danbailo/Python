{
 "cells": [
  {
   "cell_type": "markdown",
   "metadata": {
    "collapsed": true
   },
   "source": [
    "# Programação orientada a objetos\n",
    "\n",
    "A Programação Orientada a Objetos (POO) tende a ser um dos principais obstáculos para iniciantes quando começam a aprender Python.\n",
    "\n",
    "Há muitos, muitos tutoriais e lições que cobrem o POO, então sinta-se livre e vá ao Google pesquisar outras lições. Também coloquei alguns links para outros tutoriais úteis on-line na parte inferior deste Notebook.\n",
    "\n",
    "Para esta lição vamos construir nosso conhecimento de POO em Python, abordando os seguintes tópicos:\n",
    "\n",
    "* Objetos\n",
    "* Usando a palavra-chave *class*\n",
    "* Criando atributos de classe\n",
    "* Criando métodos em uma classe\n",
    "* Herança\n",
    "* Mmétodos especiais para classes\n",
    "\n",
    "Vamos começar a lição lembrando sobre os objetos básicos do Python. Por exemplo:"
   ]
  },
  {
   "cell_type": "code",
   "execution_count": 1,
   "metadata": {
    "collapsed": true
   },
   "outputs": [],
   "source": [
    "l = [1,2,3]"
   ]
  },
  {
   "cell_type": "markdown",
   "metadata": {},
   "source": [
    "Lembre-se de como podemos chamar métodos em uma lista?"
   ]
  },
  {
   "cell_type": "code",
   "execution_count": 3,
   "metadata": {},
   "outputs": [
    {
     "data": {
      "text/plain": [
       "1"
      ]
     },
     "execution_count": 3,
     "metadata": {},
     "output_type": "execute_result"
    }
   ],
   "source": [
    "l.count(2)"
   ]
  },
  {
   "cell_type": "markdown",
   "metadata": {},
   "source": [
    "O que vamos fazer basicamente nesta palestra é explorar como podemos criar um tipo de objeto como uma lista. Já aprendemos sobre como criar funções. Então, vamos explorar objetos em geral:\n",
    "\n",
    "## Objetos\n",
    "Em Python, *tudo é um objeto*. Lembre-se de palestras anteriores que podemos usar o type() para verificar o tipo de objeto de algo:"
   ]
  },
  {
   "cell_type": "code",
   "execution_count": 1,
   "metadata": {},
   "outputs": [
    {
     "name": "stdout",
     "output_type": "stream",
     "text": [
      "<class 'int'>\n",
      "<class 'list'>\n",
      "<class 'tuple'>\n",
      "<class 'dict'>\n"
     ]
    }
   ],
   "source": [
    "print(type(1))\n",
    "print(type([]))\n",
    "print(type(()))\n",
    "print(type({}))"
   ]
  },
  {
   "cell_type": "markdown",
   "metadata": {},
   "source": [
    "Então sabemos que tudo isso são objetos, então, como podemos criar nossos próprios tipos de Objetos? É aí que entra a palavra-chave *class*.\n",
    "## class\n",
    "Os objetos definidos pelo usuário são criados usando a palavra-chave da class. A classe é um modelo que define a natureza de um objeto futuro. Das classes podemos construir instâncias. Uma instância é um objeto específico criado a partir de uma determinada classe. Por exemplo, acima, criamos o objeto 'l' que era uma instância de um objeto da classe lista.\n",
    "\n",
    "Vamos ver como podemos usar **classe**:"
   ]
  },
  {
   "cell_type": "code",
   "execution_count": 2,
   "metadata": {},
   "outputs": [
    {
     "name": "stdout",
     "output_type": "stream",
     "text": [
      "<class '__main__.Sample'>\n"
     ]
    }
   ],
   "source": [
    "# Crie um novo tipo de objeto chamado Sample\n",
    "class Sample(object):\n",
    "    pass\n",
    "\n",
    "# Instanciando Sample\n",
    "x = Sample()\n",
    "\n",
    "print(type(x))"
   ]
  },
  {
   "cell_type": "markdown",
   "metadata": {},
   "source": [
    "Por convenção damos às classes um nome que começa com uma letra maiúscula. Observe como x é agora a referência para nossa nova instância da classe Sample. Em outras palavras, nós **instanciamos** a classe Sample.\n",
    "\n",
    "Dentro da classe temos apenas um *pass*. Mas podemos definir atributos e métodos de classe.\n",
    "\n",
    "Um **atributo** é uma característica de um objeto.\n",
    "Um **método** é uma operação que podemos realizar com o objeto.\n",
    "\n",
    "Por exemplo, podemos criar uma classe chamada Dog. Um atributo de Dog pode ser sua raça ou seu nome, enquanto um método de um cão pode ser definido por um método .latir() que retorna um som.\n",
    "\n",
    "Vamos ter uma melhor compreensão dos atributos através de um exemplo.\n",
    "\n",
    "## Atributos\n",
    "A sintaxe para criar um atributo é:\n",
    "    \n",
    "     self.attribute = something\n",
    "    \n",
    "Existe um método especial chamado:\n",
    "\n",
    "     __init__()\n",
    "\n",
    "Esse método é usado para inicializar os atributos de um objeto. Por exemplo:"
   ]
  },
  {
   "cell_type": "code",
   "execution_count": 3,
   "metadata": {
    "collapsed": true
   },
   "outputs": [],
   "source": [
    "class Dog(object):\n",
    "    def __init__(self,raça):\n",
    "        self.raça = raça\n",
    "        \n",
    "sam = Dog(raça='Lab')\n",
    "frank = Dog(raça='Huskie')"
   ]
  },
  {
   "cell_type": "markdown",
   "metadata": {},
   "source": [
    "Vamos descrever o que temos acima. O método especial\n",
    "\n",
    "     __init__()\n",
    "é chamado automaticamente logo após o objeto ter sido criado:\n",
    "\n",
    "     def __init __(self, raça):\n",
    "Cada atributo em uma definição de classe começa com uma referência ao objeto de instância. É convencionalmente chamado de self. A raça é o argumento. O valor é passado durante a instanciação da classe.\n",
    "\n",
    "      self.breed = breed"
   ]
  },
  {
   "cell_type": "markdown",
   "metadata": {},
   "source": [
    "Agora criamos duas instâncias da classe Dog. Com dois tipos de raças, podemos acessar estes atributos assim:"
   ]
  },
  {
   "cell_type": "code",
   "execution_count": 6,
   "metadata": {},
   "outputs": [
    {
     "data": {
      "text/plain": [
       "'Lab'"
      ]
     },
     "execution_count": 6,
     "metadata": {},
     "output_type": "execute_result"
    }
   ],
   "source": [
    "sam.raça"
   ]
  },
  {
   "cell_type": "code",
   "execution_count": 8,
   "metadata": {},
   "outputs": [
    {
     "data": {
      "text/plain": [
       "'Huskie'"
      ]
     },
     "execution_count": 8,
     "metadata": {},
     "output_type": "execute_result"
    }
   ],
   "source": [
    "frank.raça"
   ]
  },
  {
   "cell_type": "markdown",
   "metadata": {},
   "source": [
    "Observe como não temos parênteses após a raça, isto é porque é um atributo e não leva nenhum argumento.\n",
    "\n",
    "Em Python também existem *atributos de objeto de classe*. Esses atributos de objeto de classe são os mesmos para qualquer instância da classe. Por exemplo, podemos criar o atributo *especie* para a classe Dog. Os cães (independentemente da sua raça, nome ou outros atributos serão sempre mamíferos. Aplicamos essa lógica da seguinte maneira:"
   ]
  },
  {
   "cell_type": "code",
   "execution_count": 12,
   "metadata": {
    "collapsed": true
   },
   "outputs": [],
   "source": [
    "class Dog(object):\n",
    "    \n",
    "    # Atributos de objetos de classe\n",
    "    species = 'mammal'\n",
    "    \n",
    "    def __init__(self,raça,nome):\n",
    "        self.raça = raça\n",
    "        self.nome = nome"
   ]
  },
  {
   "cell_type": "code",
   "execution_count": 13,
   "metadata": {
    "collapsed": true
   },
   "outputs": [],
   "source": [
    "sam = Dog('Lab','Sam')"
   ]
  },
  {
   "cell_type": "code",
   "execution_count": 14,
   "metadata": {},
   "outputs": [
    {
     "data": {
      "text/plain": [
       "'Sam'"
      ]
     },
     "execution_count": 14,
     "metadata": {},
     "output_type": "execute_result"
    }
   ],
   "source": [
    "sam.nome"
   ]
  },
  {
   "cell_type": "markdown",
   "metadata": {},
   "source": [
    "Note that the Class Object Attribute is defined outside of any methods in the class. Also by convention, we place them first before the init."
   ]
  },
  {
   "cell_type": "code",
   "execution_count": 7,
   "metadata": {},
   "outputs": [
    {
     "data": {
      "text/plain": [
       "'mammal'"
      ]
     },
     "execution_count": 7,
     "metadata": {},
     "output_type": "execute_result"
    }
   ],
   "source": [
    "sam.species"
   ]
  },
  {
   "cell_type": "markdown",
   "metadata": {},
   "source": [
    "## Métodos\n",
    "\n",
    "Métodos são funções definidos dentro do corpo de uma classe. Eles são usados para executar operações com os atributos de nossos objetos. Os métodos são essenciais no conceito de encapsulamento em OOP. Isso é essencial para dividir as responsabilidades na programação, especialmente em grandes aplicações.\n",
    "\n",
    "Você pode basicamente pensar em métodos como funções que atuam em um Objeto que levam o próprio Objeto através de seu argumento * self *.\n",
    "\n",
    "Vamos passar por um exemplo de criação de uma classe Circle:"
   ]
  },
  {
   "cell_type": "code",
   "execution_count": 1,
   "metadata": {},
   "outputs": [
    {
     "name": "stdout",
     "output_type": "stream",
     "text": [
      "O raio é : 2\n",
      "A área é 12.56\n"
     ]
    }
   ],
   "source": [
    "class Circle(object):\n",
    "    pi = 3.14\n",
    "\n",
    "    # O círculo é instanciado com um raio (o padrão é 1)\n",
    "    def __init__(self, radius=1):\n",
    "        self.radius = radius \n",
    "\n",
    "    # Método de cálculo da área. Observe o uso de si mesmo.\n",
    "    def area(self):\n",
    "        return self.radius * self.radius * Circle.pi\n",
    "\n",
    "    # Método que redefine a área\n",
    "    def setRadius(self, radius):\n",
    "        self.radius = radius\n",
    "\n",
    "    # Método para obter raio (Mesmo que apenas chamar .radius)\n",
    "    def getRadius(self):\n",
    "        return self.radius\n",
    "\n",
    "\n",
    "c = Circle()\n",
    "\n",
    "c.setRadius(2)\n",
    "print('O raio é :',c.getRadius())\n",
    "print('A área é',c.area())"
   ]
  },
  {
   "cell_type": "markdown",
   "metadata": {},
   "source": [
    "Ótimo! Observe como nós usamos a notação *self.* para atributos de referência da classe dentro das chamadas do método. Revise como o código acima funciona e tente criar seu próprio método\n",
    "\n",
    "## Herança\n",
    "\n",
    "A herança é uma forma de formar novas classes usando classes que já foram definidas. As classes recém formadas são chamadas classes derivadas, as classes de que derivamos são chamadas de classes base. Os benefícios importantes da herança são a reutilização de códigos e a redução da complexidade de um programa. As classes derivadas (descendentes) substituem ou estendem a funcionalidade das classes base (ancestrais).\n",
    "\n",
    "Vejamos um exemplo incorporando nosso trabalho anterior na classe Dog:"
   ]
  },
  {
   "cell_type": "code",
   "execution_count": 18,
   "metadata": {
    "collapsed": true
   },
   "outputs": [],
   "source": [
    "class Animal(object):\n",
    "    def __init__(self):\n",
    "        print(\"Animal created\")\n",
    "\n",
    "    def whoAmI(self):\n",
    "        print(\"Animal\")\n",
    "\n",
    "    def eat(self):\n",
    "        print(\"Eating\")\n",
    "\n",
    "\n",
    "class Dog(Animal):\n",
    "    def __init__(self):\n",
    "        Animal.__init__(self)\n",
    "        print(\"Dog created\")\n",
    "\n",
    "    def whoAmI(self):\n",
    "        print(\"Dog\")\n",
    "\n",
    "    def bark(self):\n",
    "        print(\"Woof!\")"
   ]
  },
  {
   "cell_type": "code",
   "execution_count": 19,
   "metadata": {},
   "outputs": [
    {
     "name": "stdout",
     "output_type": "stream",
     "text": [
      "Animal created\n",
      "Dog created\n"
     ]
    }
   ],
   "source": [
    "d = Dog()"
   ]
  },
  {
   "cell_type": "code",
   "execution_count": 20,
   "metadata": {},
   "outputs": [
    {
     "name": "stdout",
     "output_type": "stream",
     "text": [
      "Dog\n"
     ]
    }
   ],
   "source": [
    "d.whoAmI()"
   ]
  },
  {
   "cell_type": "code",
   "execution_count": 21,
   "metadata": {},
   "outputs": [
    {
     "name": "stdout",
     "output_type": "stream",
     "text": [
      "Eating\n"
     ]
    }
   ],
   "source": [
    "d.eat()"
   ]
  },
  {
   "cell_type": "code",
   "execution_count": 22,
   "metadata": {},
   "outputs": [
    {
     "name": "stdout",
     "output_type": "stream",
     "text": [
      "Woof!\n"
     ]
    }
   ],
   "source": [
    "d.bark()"
   ]
  },
  {
   "cell_type": "markdown",
   "metadata": {},
   "source": [
    "Neste exemplo, temos duas classes: Animal e Dog. O animal é a classe base, o cão é a classe derivada.\n",
    "\n",
    "A classe derivada herda a funcionalidade da classe base.\n",
    "\n",
    "* É mostrado pelo método eat().\n",
    "\n",
    "A classe derivada modifica o comportamento existente da classe base.\n",
    "\n",
    "* mostrado pelo método whoAmI().\n",
    "\n",
    "Finalmente, a classe derivada estende a funcionalidade da classe base, definindo um novo método de bark()."
   ]
  },
  {
   "cell_type": "markdown",
   "metadata": {},
   "source": [
    "## Métodos especiais\n",
    "Finalmente, vamos dar uma olhada em métodos especiais. Classes em Python podem implementar determinadas operações com nomes de métodos especiais. Esses métodos não são realmente chamados diretamente, mas pela sintaxe de linguagem específica de Python. Por exemplo, crie uma classe de livro:"
   ]
  },
  {
   "cell_type": "code",
   "execution_count": 23,
   "metadata": {
    "collapsed": true
   },
   "outputs": [],
   "source": [
    "class Book(object):\n",
    "    def __init__(self, title, author, pages):\n",
    "        print(\"A book is created\")\n",
    "        self.title = title\n",
    "        self.author = author\n",
    "        self.pages = pages\n",
    "\n",
    "    def __str__(self):\n",
    "        return \"Title:%s , author:%s, pages:%s \" %(self.title, self.author, self.pages)\n",
    "\n",
    "    def __len__(self):\n",
    "        return self.pages\n",
    "\n",
    "    def __del__(self):\n",
    "        print(\"A book is destroyed\")"
   ]
  },
  {
   "cell_type": "code",
   "execution_count": 24,
   "metadata": {},
   "outputs": [
    {
     "name": "stdout",
     "output_type": "stream",
     "text": [
      "A book is created\n",
      "Title:Python Rocks! , author:Rodrigo Tadewald, pages:159 \n",
      "159\n",
      "A book is destroyed\n"
     ]
    }
   ],
   "source": [
    "book = Book(\"Python Rocks!\", \"Rodrigo Tadewald\", 159)\n",
    "\n",
    "# Métodos especiais\n",
    "print(book)\n",
    "print(len(book))\n",
    "del book"
   ]
  },
  {
   "cell_type": "markdown",
   "metadata": {},
   "source": [
    "Os métodos __init __(), __str __(), __len __() e __del __().\n",
    "Esses métodos especiais são definidos pelo uso de sublinhados. Eles nos permitem usar funções específicas do Python em objetos criados através da nossa classe.\n",
    "\n",
    "**Ótimo! Após esta palestra, você deve ter uma compreensão básica de como criar seus próprios objetos com classe em Python. Você estará utilizando isso fortemente em seu próximo projeto!**\n",
    "\n",
    "Para maiores recursos neste tópico, confira:\n",
    "\n",
    "[Post de Jeff Knupp](https://www.jeffknupp.com/blog/2014/06/18/improve-your-python-python-classes-and-object-oriented-programming/)\n",
    "\n",
    "[Correio da Mozilla](https://developer.mozilla.org/en-US/Learn/Python/Quickly_Learn_Object_Oriented_Programming)\n",
    "\n",
    "[Tutorial's Point](http://www.tutorialspoint.com/python/python_classes_objects.htm)\n",
    "\n",
    "[Documentação oficial](https://docs.python.org/2/tutorial/classes.html)"
   ]
  }
 ],
 "metadata": {
  "kernelspec": {
   "display_name": "Python 3",
   "language": "python",
   "name": "python3"
  },
  "language_info": {
   "codemirror_mode": {
    "name": "ipython",
    "version": 3
   },
   "file_extension": ".py",
   "mimetype": "text/x-python",
   "name": "python",
   "nbconvert_exporter": "python",
   "pygments_lexer": "ipython3",
   "version": "3.6.1"
  }
 },
 "nbformat": 4,
 "nbformat_minor": 1
}
