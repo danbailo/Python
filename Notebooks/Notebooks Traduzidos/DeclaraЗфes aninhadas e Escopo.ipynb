{
 "cells": [
  {
   "cell_type": "markdown",
   "metadata": {},
   "source": [
    "# Declarações aninhadas e Escopo\n",
    "\n",
    "Agora que passamos a escrever nossas próprias funções, é importante entender como o Python lida com os nomes das variáveis que você atribui. Quando você cria um nome de variável em Python, o nome é armazenado em um *namespace*. Nomes de variáveis também têm *escopo*. O escopo determina a visibilidade desse nome de variável para outras partes do seu código.\n",
    "\n",
    "Comece com uma rápida experiência de pensamento, imagine o seguinte código:"
   ]
  },
  {
   "cell_type": "code",
   "execution_count": 2,
   "metadata": {},
   "outputs": [
    {
     "name": "stdout",
     "output_type": "stream",
     "text": [
      "25\n",
      "50\n"
     ]
    }
   ],
   "source": [
    "x = 25\n",
    "\n",
    "def printer():\n",
    "    x = 50\n",
    "    return x\n",
    "\n",
    "print(x)\n",
    "print(printer())"
   ]
  },
  {
   "cell_type": "markdown",
   "metadata": {},
   "source": [
    "O que você imagina que printer() printará? 25 ou 50? Qual é o resultado da impressão x? 25 ou 50?"
   ]
  },
  {
   "cell_type": "code",
   "execution_count": 3,
   "metadata": {},
   "outputs": [
    {
     "name": "stdout",
     "output_type": "stream",
     "text": [
      "25\n"
     ]
    }
   ],
   "source": [
    "print(x)"
   ]
  },
  {
   "cell_type": "code",
   "execution_count": 4,
   "metadata": {},
   "outputs": [
    {
     "name": "stdout",
     "output_type": "stream",
     "text": [
      "50\n"
     ]
    }
   ],
   "source": [
    "print(printer())"
   ]
  },
  {
   "cell_type": "markdown",
   "metadata": {},
   "source": [
    "Interessante! Mas como a Python sabe qual **x** você está se referindo no seu código? Este é o lugar onde a idéia de scope vem. Python tem um conjunto de regras que segue para decidir quais variáveis (como x neste caso) você está fazendo referência em seu código. Vamos investigar as regras:"
   ]
  },
  {
   "cell_type": "markdown",
   "metadata": {
    "collapsed": true
   },
   "source": [
    "Essa idéia de scope em seu código é muito importante para entender para atribuir e chamar nomes de variáveis ​​adequadamente.\n",
    "\n",
    "Em termos simples, a idéia de scope pode ser descrita por 3 regras gerais:\n",
    "\n",
    "1. As atribuições de nomes criam ou alteram nomes locais por padrão.\n",
    "2. Existem 4 possíveis scopes. São eles:\n",
    "    * local\n",
    "    * enclosing functions\n",
    "    * global\n",
    "    * built-in\n",
    "3. Os nomes declarados em declarações globais e não locais mapeiam nomes atribuídos para preencher módulos e escopos de função.\n",
    "\n",
    "\n",
    "A declaração em #2 acima pode ser definida pela regra LEGB.\n",
    "\n",
    "** Regra LEGB. **\n",
    "\n",
    "L: Local - Nomes atribuídos de qualquer forma dentro de uma função (def ou lambda)) e declarações não globais nessa função.\n",
    "\n",
    "E: Enclosing function locals - Nome no escopo local de todas e quaisquer funções enclapsuladas (def ou lambda), de dentro para fora.\n",
    "\n",
    "G: Global (módulo) - Nomes atribuídos no nível superior de um arquivo de módulo, ou declarados como *global* em uma def dentro do arquivo.\n",
    "\n",
    "B: Built-in (Python) - Nomes pré-atribuídos no módulo: open, range, SyntaxError, ..."
   ]
  },
  {
   "cell_type": "markdown",
   "metadata": {},
   "source": [
    "## Exemplos rápidos do LEGB\n",
    "\n",
    "### Local"
   ]
  },
  {
   "cell_type": "code",
   "execution_count": 9,
   "metadata": {
    "collapsed": true
   },
   "outputs": [],
   "source": [
    "# x é local aqui:\n",
    "f = lambda x:x**2"
   ]
  },
  {
   "cell_type": "markdown",
   "metadata": {},
   "source": [
    "### Locais encapsulados em funções\n",
    "Isso ocorre quando temos uma função dentro de uma função (funções aninhadas).\n"
   ]
  },
  {
   "cell_type": "code",
   "execution_count": 6,
   "metadata": {},
   "outputs": [
    {
     "name": "stdout",
     "output_type": "stream",
     "text": [
      "Hello Sammy\n",
      "This is a global name\n"
     ]
    }
   ],
   "source": [
    "name = 'This is a global name'\n",
    "\n",
    "def greet():\n",
    "    name = 'Sammy'\n",
    "    \n",
    "    def hello():\n",
    "        print('Hello '+name)\n",
    "    \n",
    "    hello()\n",
    "\n",
    "greet()\n",
    "print(name)"
   ]
  },
  {
   "cell_type": "markdown",
   "metadata": {},
   "source": [
    "Observe como Sammy foi usado, porque a função hello() foi anexada dentro da função de saudação!"
   ]
  },
  {
   "cell_type": "markdown",
   "metadata": {},
   "source": [
    "### Global\n",
    "Felizmente, no Jupyter, uma maneira rápida de testar variáveis globais é ver se outra célula reconhece a variável!"
   ]
  },
  {
   "cell_type": "code",
   "execution_count": 12,
   "metadata": {},
   "outputs": [
    {
     "name": "stdout",
     "output_type": "stream",
     "text": [
      "This is a global name\n"
     ]
    }
   ],
   "source": [
    "print(name)"
   ]
  },
  {
   "cell_type": "markdown",
   "metadata": {},
   "source": [
    "### Built-in\n",
    "Estes são os nomes de funções incorporados no Python (não substitua estes!)"
   ]
  },
  {
   "cell_type": "code",
   "execution_count": 13,
   "metadata": {},
   "outputs": [
    {
     "data": {
      "text/plain": [
       "<function len>"
      ]
     },
     "execution_count": 13,
     "metadata": {},
     "output_type": "execute_result"
    }
   ],
   "source": [
    "len"
   ]
  },
  {
   "cell_type": "markdown",
   "metadata": {},
   "source": [
    "## Variáveis Locais\n",
    "Quando você declara variáveis dentro de uma definição de função, elas não estão relacionadas de nenhuma maneira a outras variáveis com os mesmos nomes usados fora da função - ou seja, os nomes de variáveis são locais para a função. Isso é chamado de escopo da variável. Todas as variáveis têm o escopo do bloco em que são declarados a partir do ponto de definição do nome.\n",
    "\n",
    "Exemplo:"
   ]
  },
  {
   "cell_type": "code",
   "execution_count": 14,
   "metadata": {},
   "outputs": [
    {
     "name": "stdout",
     "output_type": "stream",
     "text": [
      "x is 50\n",
      "Changed local x to 2\n",
      "x is still 50\n"
     ]
    }
   ],
   "source": [
    "x = 50\n",
    "\n",
    "def func(x):\n",
    "    print('x is', x)\n",
    "    x = 2\n",
    "    print('Changed local x to', x)\n",
    "\n",
    "func(x)\n",
    "print('x is still', x)"
   ]
  },
  {
   "cell_type": "markdown",
   "metadata": {},
   "source": [
    "Na primeira vez que imprimimos o valor do nome x com a primeira linha no corpo da função, o Python usa o valor do parâmetro declarado no bloco principal, acima da definição da função.\n",
    "\n",
    "Em seguida, atribuímos o valor 2 a x. O nome x é local para nossa função. Então, quando mudamos o valor de x na função, o x definido no bloco principal permanece inalterado.\n",
    "\n",
    "Com a última declaração de impressão, mostramos o valor de x conforme definido no bloco principal, confirmando assim que ele não é afetado pela atribuição local dentro da função anteriormente chamada.\n",
    "\n",
    "## A declaração global\n",
    "Se você deseja atribuir um valor a um nome definido no nível superior do programa (ou seja, não dentro de qualquer tipo de escopo, como funções ou classes), então você deve dizer ao Python que o nome não é local, mas é global . Fazemos isso usando a declaração global. É impossível atribuir um valor a uma variável definida fora de uma função sem a declaração global.\n",
    "\n",
    "Você pode usar os valores de tais variáveis ​​definidas fora da função (assumindo que não há nenhuma variável com o mesmo nome dentro da função). No entanto, isso não é encorajado e deve ser evitado, uma vez que não fica claro para o leitor do programa como a definição daquela variável. O uso da declaração global torna claro que a variável é definida em um bloco mais externo.\n",
    "\n",
    "Exemplo:"
   ]
  },
  {
   "cell_type": "code",
   "execution_count": 15,
   "metadata": {},
   "outputs": [
    {
     "name": "stdout",
     "output_type": "stream",
     "text": [
      "Before calling func(), x is:  50\n",
      "This function is now using the global x!\n",
      "Because of global x is:  50\n",
      "Ran func(), changed global x to 2\n",
      "Value of x (outside of func()) is:  2\n"
     ]
    }
   ],
   "source": [
    "x = 50\n",
    "\n",
    "def func():\n",
    "    global x\n",
    "    print('This function is now using the global x!')\n",
    "    print('Because of global x is: ', x)\n",
    "    x = 2\n",
    "    print('Ran func(), changed global x to', x)\n",
    "\n",
    "print('Before calling func(), x is: ', x)\n",
    "func()\n",
    "print('Value of x (outside of func()) is: ', x)"
   ]
  },
  {
   "cell_type": "markdown",
   "metadata": {
    "collapsed": true
   },
   "source": [
    "A declaração global é usada para declarar que x é uma variável global - portanto, quando atribuímos um valor a x dentro da função, essa alteração é refletida quando usamos o valor de x no bloco principal.\n",
    "\n",
    "Você pode especificar mais de uma variável global usando a mesma declaração global, e. global x, y, z."
   ]
  },
  {
   "cell_type": "markdown",
   "metadata": {
    "collapsed": true
   },
   "source": [
    "## Conclusão\n",
    "Você deve agora ter um bom entendimento sobre o Escopo (você já pode ter percebido intuitivamente sobre o Escopo o que é ótimo!) Uma última menção é que você pode usar as funções globals() e locals() para verificar quais são seus locais e globais atuais variáveis.\n",
    "\n",
    "Outra coisa a ter em mente é que tudo em Python é um objeto! Eu posso atribuir variáveis a funções como eu posso com números! Nós iremos sobre isso novamente na seção do decorador do curso!"
   ]
  }
 ],
 "metadata": {
  "kernelspec": {
   "display_name": "Python 3",
   "language": "python",
   "name": "python3"
  },
  "language_info": {
   "codemirror_mode": {
    "name": "ipython",
    "version": 3
   },
   "file_extension": ".py",
   "mimetype": "text/x-python",
   "name": "python",
   "nbconvert_exporter": "python",
   "pygments_lexer": "ipython3",
   "version": "3.6.1"
  }
 },
 "nbformat": 4,
 "nbformat_minor": 1
}
