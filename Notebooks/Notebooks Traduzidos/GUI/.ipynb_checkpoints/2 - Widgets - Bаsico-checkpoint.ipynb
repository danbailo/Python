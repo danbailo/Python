{
 "cells": [
  {
   "cell_type": "markdown",
   "metadata": {},
   "source": [
    "# Widgets - Básico\n",
    "\n",
    "Nesta palestra, continuaremos a construir nossa compreensão de ** interact ** e ** interactive ** para começar a usar widgets completos!"
   ]
  },
  {
   "cell_type": "markdown",
   "metadata": {
    "slideshow": {
     "slide_type": "slide"
    }
   },
   "source": [
    "## O que são widgets?\n",
    "Os widgets são objetos python com eventos que têm uma representação no navegador, muitas vezes como um controle deslizante, caixa de texto, etc."
   ]
  },
  {
   "cell_type": "markdown",
   "metadata": {
    "slideshow": {
     "slide_type": "slide"
    }
   },
   "source": [
    "## Para que eles podem ser usados?\n",
    "Você pode usar widgets para criar ** GUIs interativas ** para seus notebooks.\n",
    "Você também pode usar widgets para ** sincronizar informações estaduais e sem estado ** entre Python e JavaScript."
   ]
  },
  {
   "cell_type": "markdown",
   "metadata": {
    "slideshow": {
     "slide_type": "slide"
    }
   },
   "source": [
    "## Usando widgets\n",
    "Para usar a estrutura do widget, você precisa importar `ipywidgets`."
   ]
  },
  {
   "cell_type": "code",
   "execution_count": 1,
   "metadata": {},
   "outputs": [],
   "source": [
    "from ipywidgets import *"
   ]
  },
  {
   "cell_type": "markdown",
   "metadata": {},
   "source": [
    "### repr\n",
    "Os widgets têm sua própria exibição `repr`, o que permite que eles sejam exibidos usando a estrutura de exibição do IPython. Construir e retornar um `IntSlider` exibe automaticamente o widget (como visto abaixo). Os widgets são exibidos dentro da área do widget, que fica entre a célula do código e a saída. Você pode ocultar todos os widgets na área do widget clicando no cinza * x * na margem."
   ]
  },
  {
   "cell_type": "code",
   "execution_count": 2,
   "metadata": {},
   "outputs": [
    {
     "data": {
      "application/vnd.jupyter.widget-view+json": {
       "model_id": "3cffd260e59445f88985fa82dbe70248"
      }
     },
     "metadata": {},
     "output_type": "display_data"
    }
   ],
   "source": [
    "IntSlider()"
   ]
  },
  {
   "cell_type": "markdown",
   "metadata": {},
   "source": [
    "### exibição()\n",
    "Você também pode exibir explicitamente o widget usando `display (...)`."
   ]
  },
  {
   "cell_type": "code",
   "execution_count": 3,
   "metadata": {},
   "outputs": [
    {
     "data": {
      "application/vnd.jupyter.widget-view+json": {
       "model_id": "e6689cc1fa0c4979a055cd6dc4fe8278"
      }
     },
     "metadata": {},
     "output_type": "display_data"
    }
   ],
   "source": [
    "from IPython.display import display\n",
    "w = IntSlider()\n",
    "display(w)"
   ]
  },
  {
   "cell_type": "markdown",
   "metadata": {},
   "source": [
    "### Chamadas múltiplas de exibição ()\n",
    "Se você exibir o mesmo widget duas vezes, as instâncias exibidas no front-end permanecerão sincronizadas umas com as outras. Tente arrastar o controle deslizante abaixo e veja o controle deslizante acima."
   ]
  },
  {
   "cell_type": "code",
   "execution_count": 4,
   "metadata": {},
   "outputs": [
    {
     "data": {
      "application/vnd.jupyter.widget-view+json": {
       "model_id": "e6689cc1fa0c4979a055cd6dc4fe8278"
      }
     },
     "metadata": {},
     "output_type": "display_data"
    }
   ],
   "source": [
    "display(w)"
   ]
  },
  {
   "cell_type": "markdown",
   "metadata": {},
   "source": [
    "### Fechando widgets\n",
    "Você pode fechar um widget chamando seu método `close ()`."
   ]
  },
  {
   "cell_type": "code",
   "execution_count": 5,
   "metadata": {},
   "outputs": [
    {
     "data": {
      "application/vnd.jupyter.widget-view+json": {
       "model_id": "e6689cc1fa0c4979a055cd6dc4fe8278"
      }
     },
     "metadata": {},
     "output_type": "display_data"
    }
   ],
   "source": [
    "display(w)"
   ]
  },
  {
   "cell_type": "code",
   "execution_count": 6,
   "metadata": {},
   "outputs": [],
   "source": [
    "w.close()"
   ]
  },
  {
   "cell_type": "markdown",
   "metadata": {
    "slideshow": {
     "slide_type": "slide"
    }
   },
   "source": [
    "## Propriedades dos Widget\n",
    "Todos os widgets do IPython compartilham um esquema de nomeação semelhante. Para ler o valor de um widget, você pode consultar sua propriedade `value`."
   ]
  },
  {
   "cell_type": "code",
   "execution_count": 7,
   "metadata": {},
   "outputs": [
    {
     "data": {
      "application/vnd.jupyter.widget-view+json": {
       "model_id": "dc1b46b5665b4a78af8ccccc8f120099"
      }
     },
     "metadata": {},
     "output_type": "display_data"
    }
   ],
   "source": [
    "w = IntSlider()\n",
    "display(w)"
   ]
  },
  {
   "cell_type": "code",
   "execution_count": 8,
   "metadata": {},
   "outputs": [
    {
     "data": {
      "text/plain": [
       "0"
      ]
     },
     "execution_count": 8,
     "metadata": {},
     "output_type": "execute_result"
    }
   ],
   "source": [
    "w.value"
   ]
  },
  {
   "cell_type": "markdown",
   "metadata": {},
   "source": [
    "Da mesma forma, para definir o valor de um widget, você pode definir sua propriedade `value`."
   ]
  },
  {
   "cell_type": "code",
   "execution_count": 9,
   "metadata": {},
   "outputs": [],
   "source": [
    "w.value = 100"
   ]
  },
  {
   "cell_type": "markdown",
   "metadata": {},
   "source": [
    "### Keys\n",
    "In addition to `value`, most widgets share `keys`, `description`, `disabled`, and `visible`. To see the entire list of synchronized, stateful properties of any specific widget, you can query the `keys` property.\n",
    "\n",
    "### Chaves\n",
    "Além de `value`, a maioria dos widgets compartilha` keys`, `description`,` disabled` e `visible`. Para ver toda a lista de propriedades, você pode consultar a propriedade `keys`."
   ]
  },
  {
   "cell_type": "code",
   "execution_count": 10,
   "metadata": {},
   "outputs": [
    {
     "data": {
      "text/plain": [
       "['style',\n",
       " 'value',\n",
       " '_view_module',\n",
       " '_range',\n",
       " 'description',\n",
       " '_view_name',\n",
       " 'msg_throttle',\n",
       " '_view_module_version',\n",
       " 'continuous_update',\n",
       " '_model_module_version',\n",
       " 'orientation',\n",
       " 'min',\n",
       " '_dom_classes',\n",
       " '_model_module',\n",
       " 'layout',\n",
       " 'readout_format',\n",
       " 'max',\n",
       " 'disabled',\n",
       " 'readout',\n",
       " 'step',\n",
       " '_model_name']"
      ]
     },
     "execution_count": 10,
     "metadata": {},
     "output_type": "execute_result"
    }
   ],
   "source": [
    "w.keys"
   ]
  },
  {
   "cell_type": "markdown",
   "metadata": {
    "slideshow": {
     "slide_type": "slide"
    }
   },
   "source": [
    "### Atalho para definir os valores iniciais das propriedades dos widgets\n",
    "Ao criar um widget, você pode definir alguns ou todos os valores iniciais desse widget, definindo-os como argumentos de palavras-chave no construtor do widget (conforme visto abaixo)."
   ]
  },
  {
   "cell_type": "code",
   "execution_count": 11,
   "metadata": {},
   "outputs": [
    {
     "data": {
      "application/vnd.jupyter.widget-view+json": {
       "model_id": "7c13ae475dd6426294a3e5f738050f70"
      }
     },
     "metadata": {},
     "output_type": "display_data"
    }
   ],
   "source": [
    "Text(value='Hello World!', disabled=True)"
   ]
  },
  {
   "cell_type": "markdown",
   "metadata": {
    "slideshow": {
     "slide_type": "slide"
    }
   },
   "source": [
    "## Vinculando dois widgets semelhantes\n",
    "Se você precisa exibir o mesmo valor de duas maneiras diferentes, você precisará usar dois widgets diferentes. Em vez de tentar sincronizar manualmente os valores dos dois widgets, você pode usar a função `traitlet`` link` para vincular duas propriedades juntas. Abaixo, os valores de dois widgets estão ligados entre si."
   ]
  },
  {
   "cell_type": "code",
   "execution_count": 12,
   "metadata": {},
   "outputs": [
    {
     "data": {
      "application/vnd.jupyter.widget-view+json": {
       "model_id": "adc3316d2b5d4b01a711550a3b77232d"
      }
     },
     "metadata": {},
     "output_type": "display_data"
    },
    {
     "data": {
      "application/vnd.jupyter.widget-view+json": {
       "model_id": "a3a7760911704442a511568c9a489643"
      }
     },
     "metadata": {},
     "output_type": "display_data"
    }
   ],
   "source": [
    "from traitlets import link\n",
    "a = FloatText()\n",
    "b = FloatSlider()\n",
    "display(a,b)\n",
    "\n",
    "mylink = link((a, 'value'), (b, 'value'))"
   ]
  },
  {
   "cell_type": "markdown",
   "metadata": {
    "slideshow": {
     "slide_type": "slide"
    }
   },
   "source": [
    "### Desvinculando widgets\n",
    "Desvincular os widgets é simples. Tudo o que você precisa fazer é chamar `.unlink` no objeto de link. Tente alterar um dos widgets acima depois de desvincular para ver se eles podem ser alterados independentemente."
   ]
  },
  {
   "cell_type": "code",
   "execution_count": 13,
   "metadata": {},
   "outputs": [],
   "source": [
    "mylink.unlink()"
   ]
  },
  {
   "cell_type": "markdown",
   "metadata": {},
   "source": [
    "# Conclusão\n",
    "\n",
    "Agora você deve começar a ter uma compreensão de como os Widgets podem interagir uns com os outros e como você pode começar a especificar os detalhes do widget."
   ]
  }
 ],
 "metadata": {
  "kernelspec": {
   "display_name": "Python 3",
   "language": "python",
   "name": "python3"
  },
  "language_info": {
   "codemirror_mode": {
    "name": "ipython",
    "version": 3
   },
   "file_extension": ".py",
   "mimetype": "text/x-python",
   "name": "python",
   "nbconvert_exporter": "python",
   "pygments_lexer": "ipython3",
   "version": "3.5.3"
  }
 },
 "nbformat": 4,
 "nbformat_minor": 1
}
