{
 "cells": [
  {
   "cell_type": "markdown",
   "metadata": {},
   "source": [
    "# Módulos e Pacotes\n",
    "\n",
    "Não há nenhum código aqui, porque realmente não faz sentido para a seção. Confira as palestras de vídeo para obter mais informações.\n",
    "\n",
    "Aqui está a melhor fonte dos documentos oficiais!\n",
    "https://docs.python.org/2/tutorial/modules.html#packages\n",
    "\n",
    "Mas eu realmente gosto dest: https://python4astronomers.github.io/installation/packages.html\n",
    "\n",
    "Aqui estão algumas informações extras para ajudar:"
   ]
  },
  {
   "cell_type": "markdown",
   "metadata": {},
   "source": [
    "Os módulos no Python são simplesmente arquivos Python com a extensão .py, que implementam um conjunto de funções. Os módulos são importados de outros módulos usando o comando import.\n",
    "\n",
    "Para importar um módulo, usamos o comando import. A primeira vez que um módulo é carregado em um script Python em execução, ele é inicializado executando o código no módulo uma vez. Se outro módulo no seu código importar o mesmo módulo novamente, ele não será carregado duas vezes, mas uma vez somente - então as variáveis locais dentro do módulo atuam como \"singleton\" - elas são inicializadas apenas uma vez.\n",
    "\n",
    "Se quisermos importar módulos de matemática, simplesmente importamos o módulo:"
   ]
  },
  {
   "cell_type": "code",
   "execution_count": 5,
   "metadata": {
    "collapsed": true
   },
   "outputs": [],
   "source": [
    "# Importa a biblioteca\n",
    "import math"
   ]
  },
  {
   "cell_type": "code",
   "execution_count": 6,
   "metadata": {},
   "outputs": [
    {
     "data": {
      "text/plain": [
       "3"
      ]
     },
     "execution_count": 6,
     "metadata": {},
     "output_type": "execute_result"
    }
   ],
   "source": [
    "# Usa-a\n",
    "math.ceil(2.4)"
   ]
  },
  {
   "cell_type": "markdown",
   "metadata": {},
   "source": [
    "## Explorando módulos embutidos\n",
    "Duas funções muito importantes são úteis quando se exploram módulos no Python - as funções dir e help.\n",
    "\n",
    "Podemos procurar quais funções são implementadas em cada módulo usando a função dir:"
   ]
  },
  {
   "cell_type": "code",
   "execution_count": 8,
   "metadata": {},
   "outputs": [
    {
     "name": "stdout",
     "output_type": "stream",
     "text": [
      "['__doc__', '__file__', '__loader__', '__name__', '__package__', '__spec__', 'acos', 'acosh', 'asin', 'asinh', 'atan', 'atan2', 'atanh', 'ceil', 'copysign', 'cos', 'cosh', 'degrees', 'e', 'erf', 'erfc', 'exp', 'expm1', 'fabs', 'factorial', 'floor', 'fmod', 'frexp', 'fsum', 'gamma', 'gcd', 'hypot', 'inf', 'isclose', 'isfinite', 'isinf', 'isnan', 'ldexp', 'lgamma', 'log', 'log10', 'log1p', 'log2', 'modf', 'nan', 'pi', 'pow', 'radians', 'sin', 'sinh', 'sqrt', 'tan', 'tanh', 'trunc']\n"
     ]
    }
   ],
   "source": [
    "print(dir(math))"
   ]
  },
  {
   "cell_type": "markdown",
   "metadata": {},
   "source": [
    "Quando encontramos a função no módulo que queremos usar, podemos ler mais sobre isso usando a função de ajuda, dentro do interpretador Python:"
   ]
  },
  {
   "cell_type": "code",
   "execution_count": 10,
   "metadata": {},
   "outputs": [
    {
     "name": "stdout",
     "output_type": "stream",
     "text": [
      "Help on built-in function ceil in module math:\n",
      "\n",
      "ceil(...)\n",
      "    ceil(x)\n",
      "    \n",
      "    Return the ceiling of x as an int.\n",
      "    This is the smallest integral value >= x.\n",
      "\n"
     ]
    }
   ],
   "source": [
    "help(math.ceil)"
   ]
  },
  {
   "cell_type": "markdown",
   "metadata": {},
   "source": [
    "## Escrevendo módulos\n",
    "Escrever módulos Python é muito simples. Para criar um módulo por conta própria, basta criar um novo arquivo .py com o nome do módulo e, em seguida, importá-lo usando o nome do arquivo Python (sem a extensão .py) usando o comando import.\n",
    "\n",
    "## Escrevendo pacotes\n",
    "Os pacotes são espaços de nomes que contêm vários pacotes e módulos próprios. Eles são simplesmente diretórios, mas com um extra.\n",
    "\n",
    "Cada pacote no Python é um diretório que DEVE conter um arquivo especial chamado ** \\ __ init \\ __. Py **. Este arquivo pode estar vazio e indica que o diretório que ele contém é um pacote Python, portanto pode ser importado da mesma maneira que um módulo pode ser importado.\n",
    "\n",
    "Se criarmos um diretório chamado foo, que marca o nome do pacote, podemos criar um módulo dentro desse pacote chamado barra. Também não devemos esquecer de adicionar o arquivo ** \\ __ init \\ __. Py ** dentro do diretório foo.\n",
    "\n",
    "Para usar módulos, podemos importá-lo de duas maneiras:"
   ]
  },
  {
   "cell_type": "code",
   "execution_count": null,
   "metadata": {
    "collapsed": true
   },
   "outputs": [],
   "source": [
    "# Apenas um exemplo (isso não funcionará)\n",
    "import foo.bar"
   ]
  },
  {
   "cell_type": "code",
   "execution_count": null,
   "metadata": {},
   "outputs": [],
   "source": [
    "# Ou podemos fazer deste jeito\n",
    "from foo import bar"
   ]
  },
  {
   "cell_type": "markdown",
   "metadata": {},
   "source": [
    "No primeiro método, devemos usar o prefixo foo sempre que acessamos a barra do módulo. No segundo método, não o fazemos, porque importamos o módulo para o espaço de nomes do nosso módulo.\n",
    "\n",
    "O arquivo ** \\ __ init \\ __. Py ** também pode decidir quais módulos o pacote exporta como API, mantendo outros módulos internos, substituindo a variável ** \\ __ all \\ __ **, assim:"
   ]
  },
  {
   "cell_type": "code",
   "execution_count": null,
   "metadata": {
    "collapsed": true
   },
   "outputs": [],
   "source": [
    "__init__.py:\n",
    "\n",
    "__all__ = [\"bar\"]"
   ]
  }
 ],
 "metadata": {
  "kernelspec": {
   "display_name": "Python 3",
   "language": "python",
   "name": "python3"
  },
  "language_info": {
   "codemirror_mode": {
    "name": "ipython",
    "version": 3
   },
   "file_extension": ".py",
   "mimetype": "text/x-python",
   "name": "python",
   "nbconvert_exporter": "python",
   "pygments_lexer": "ipython3",
   "version": "3.5.3"
  }
 },
 "nbformat": 4,
 "nbformat_minor": 1
}
