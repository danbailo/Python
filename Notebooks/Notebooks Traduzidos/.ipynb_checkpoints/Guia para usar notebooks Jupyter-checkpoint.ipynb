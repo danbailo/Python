{
 "cells": [
  {
   "cell_type": "markdown",
   "metadata": {},
   "source": [
    "# Guia para usar notebooks Jupyter\n",
    "Nesta palestra, iremos dar uma pequena olhada sobre os conceitos básicos do Jupyter (anteriormente chamados iPython Notebooks).\n",
    "\n",
    "Para obter um manual completo do usuário, confira o [Bryn Mawr College Computer Science Guide](https://athena.brynmawr.edu/jupyter/hub/dblank/public/Jupyter%20Notebook%20Users%20Manual.ipynb).\n",
    "\n",
    "A maior parte da repartição ocorrerá na apresentação correspondente a este Notebook. Por isso, consulte a apresentação ou o Manual completo do usuário, vinculado acima."
   ]
  }
 ],
 "metadata": {
  "kernelspec": {
   "display_name": "Python 3",
   "language": "python",
   "name": "python3"
  },
  "language_info": {
   "codemirror_mode": {
    "name": "ipython",
    "version": 3
   },
   "file_extension": ".py",
   "mimetype": "text/x-python",
   "name": "python",
   "nbconvert_exporter": "python",
   "pygments_lexer": "ipython3",
   "version": "3.5.3"
  }
 },
 "nbformat": 4,
 "nbformat_minor": 1
}
